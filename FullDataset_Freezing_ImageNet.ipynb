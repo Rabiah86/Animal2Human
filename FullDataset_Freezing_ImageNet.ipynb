{
  "nbformat": 4,
  "nbformat_minor": 0,
  "metadata": {
    "colab": {
      "name": "FullDataset-Freezing-ImageNet.ipynb",
      "provenance": [],
      "collapsed_sections": [],
      "authorship_tag": "ABX9TyPOahQbzQYcScY0kVNVcOFQ"
    },
    "kernelspec": {
      "name": "python3",
      "display_name": "Python 3"
    },
    "language_info": {
      "name": "python"
    }
  },
  "cells": [
    {
      "cell_type": "code",
      "metadata": {
        "id": "Y04rYVmZ8bwf"
      },
      "source": [
        "import os\n",
        "import tensorflow as tf\n",
        "import numpy as np #adds support for large, multi-dimensional arrays and matrices, along with a large collection of high-level mathematical functions to operate on these arrays\n",
        "import pandas as pd #data structures and operations for manipulating numerical tables and time series\n",
        "import sys # system path io\n",
        "import glob #glob module is used to retrieve files/pathnames matching a specified pattern\n",
        "from tqdm import tqdm # show progress bar when a loop is running\n",
        "from plotly.offline import download_plotlyjs, init_notebook_mode, iplot\n",
        "from plotly import tools\n",
        "from plotly.graph_objs import *\n",
        "from plotly.graph_objs.layout import Margin, YAxis, XAxis\n",
        "init_notebook_mode()\n",
        "import matplotlib.pyplot as plt\n",
        "from matplotlib import patches as patches\n",
        "from pathlib import Path\n",
        "import xml.etree.ElementTree as ET\n",
        "from keras.callbacks import EarlyStopping\n",
        "from sklearn.metrics import accuracy_score, f1_score, precision_score, confusion_matrix\n",
        "from sklearn.model_selection import KFold, StratifiedKFold\n",
        "from keras.applications.vgg16 import VGG16, preprocess_input\n",
        "from keras.preprocessing import image\n",
        "from keras.preprocessing.image import ImageDataGenerator\n",
        "from keras import optimizers\n",
        "from keras import backend as K\n",
        "import io\n",
        "from google.colab import drive\n",
        "from sklearn.model_selection import KFold, StratifiedKFold,LeaveOneOut\n",
        "from keras.layers import Input, Lambda, Dense, Flatten\n",
        "from keras.models import Model\n",
        "from keras.preprocessing import image\n",
        "from keras.preprocessing.image import ImageDataGenerator\n",
        "from keras import optimizers\n",
        "from keras import backend as K\n",
        "from keras.callbacks import EarlyStopping\n",
        "import shutil\n",
        "import statistics\n",
        "from keras.models import Model\n",
        "from tensorflow.keras import layers\n",
        "drive.mount('/content/gdrive')\n"
      ],
      "execution_count": null,
      "outputs": []
    },
    {
      "cell_type": "code",
      "metadata": {
        "id": "LKWdaPa9kted"
      },
      "source": [
        "!mkdir validation\n",
        "!mkdir validation/reticulocyte\n",
        "!mkdir validation/erythrocyte\n",
        "!mkdir validation/BG"
      ],
      "execution_count": null,
      "outputs": []
    },
    {
      "cell_type": "code",
      "metadata": {
        "colab": {
          "base_uri": "https://localhost:8080/",
          "height": 145
        },
        "id": "QBKuwHofvDkn",
        "outputId": "22a80999-50f9-4c50-9efe-57454e5730ef"
      },
      "source": [
        "!ls /content/gdrive/MyDrive/Alldata/BG  | wc -l\n",
        "!ls /content/gdrive/MyDrive/Alldata/reticulocyte  | wc -l\n",
        "!ls /content/gdrive/MyDrive/Alldata/erythrocyte  | wc -l\n",
        "'''\n",
        "479\n",
        "470\n",
        "1507\n",
        "'''"
      ],
      "execution_count": null,
      "outputs": [
        {
          "output_type": "stream",
          "text": [
            "ls: cannot access '/content/gdrive/MyDrive/Alldata/BG': No such file or directory\n",
            "0\n",
            "ls: cannot access '/content/gdrive/MyDrive/Alldata/reticulocyte': No such file or directory\n",
            "0\n",
            "ls: cannot access '/content/gdrive/MyDrive/Alldata/erythrocyte': No such file or directory\n",
            "0\n"
          ],
          "name": "stdout"
        },
        {
          "output_type": "execute_result",
          "data": {
            "application/vnd.google.colaboratory.intrinsic+json": {
              "type": "string"
            },
            "text/plain": [
              "'\\n479\\n470\\n1507\\n'"
            ]
          },
          "metadata": {
            "tags": []
          },
          "execution_count": 1
        }
      ]
    },
    {
      "cell_type": "code",
      "metadata": {
        "colab": {
          "base_uri": "https://localhost:8080/"
        },
        "id": "EsjJaP62lPop",
        "outputId": "99b0e2e5-69c8-48ac-d603-411091d42c03"
      },
      "source": [
        "IMAGE_SIZE=[100,100]\n",
        "batch_size=32\n",
        "NN = VGG16(input_shape=IMAGE_SIZE + [3], weights='imagenet', include_top=False)  # do not include head, transfer learning\n",
        "for layer in NN.layers:\n",
        "    layer.trainable = False\n",
        "# layers creation - Here more can be added\n",
        "x = layers.Flatten()(NN.output)\n",
        "x = layers.Dense(1000, activation='relu')(x)\n",
        "prediction = layers.Dense(3, activation='softmax')(x)\n",
        "# creating a model object\n",
        "model = Model(inputs=NN.input, outputs=prediction)\n",
        "sgd = optimizers.SGD(lr=0.01, decay=1e-6, momentum=0.9, nesterov=True)\n",
        "model.compile(\n",
        "  loss='categorical_crossentropy',\n",
        "\n",
        "  optimizer='sgd',\n",
        "\n",
        "  metrics=['accuracy'] \n",
        "\n",
        ")"
      ],
      "execution_count": null,
      "outputs": [
        {
          "output_type": "stream",
          "text": [
            "Downloading data from https://storage.googleapis.com/tensorflow/keras-applications/vgg16/vgg16_weights_tf_dim_ordering_tf_kernels_notop.h5\n",
            "58892288/58889256 [==============================] - 1s 0us/step\n"
          ],
          "name": "stdout"
        }
      ]
    },
    {
      "cell_type": "code",
      "metadata": {
        "colab": {
          "base_uri": "https://localhost:8080/"
        },
        "id": "mecACg4VpiZN",
        "outputId": "0f23fd52-8217-4789-99c9-e91577be23a5"
      },
      "source": [
        "import PIL\n",
        "X=[]\n",
        "Y=[]\n",
        "base_dir=\"/content/gdrive/MyDrive/Alldata\"\n",
        "labels_list=['erythrocyte','reticulocyte','BG']#retic_df[\"class\"].unique().tolist()\n",
        "dir=os.getcwd()\n",
        "for directory in labels_list:\n",
        "    print(directory)\n",
        "    #print(len(os.listdir(base_dir+'/'+directory)))\n",
        "    for files in os.listdir(base_dir+'/'+directory):\n",
        "        #img = Image.open(directory+'/'+files)\n",
        "        #img = img.convert('L')\n",
        "        #img = img.resize((IMG_SIZE, IMG_SIZE), Image.ANTIALIAS)\n",
        "        X.append(directory+'/'+files)\n",
        "        #X.append([np.array(img)])\n",
        "        current_index=labels_list.index(directory)\n",
        "        Y.append(current_index)\n",
        "X=np.asarray(X)\n",
        "Y=np.asarray(Y)"
      ],
      "execution_count": null,
      "outputs": [
        {
          "output_type": "stream",
          "text": [
            "erythrocyte\n",
            "reticulocyte\n",
            "BG\n"
          ],
          "name": "stdout"
        }
      ]
    },
    {
      "cell_type": "code",
      "metadata": {
        "colab": {
          "base_uri": "https://localhost:8080/"
        },
        "id": "YUHxbVIsj_T5",
        "outputId": "532ad07d-8288-435f-d23b-72596d551f0a"
      },
      "source": [
        "#kfold = StratifiedKFold(n_splits=10, shuffle=True, random_state=7)\n",
        "cvscores = []\n",
        "\n",
        "validation_path=\"validation\"\n",
        "train_path= '/content/gdrive/MyDrive/Alldata/'\n",
        "#skf = StratifiedKFold(n_splits=2, shuffle=True)\n",
        "#skf.get_n_splits(X, Y)\n",
        "accuracy_list= list()\n",
        "precision_list=list()\n",
        "f1_list=list()\n",
        "microprecision_list=list()\n",
        "microf1_list=list()\n",
        "means, mins, maxs = list(),list(),list()\n",
        "f1means, f1mins, f1maxs = list(),list(),list()\n",
        "microf1means, microf1mins, microf1maxs = list(),list(),list()\n",
        "precmeans, precmins, precmaxs = list(),list(),list()\n",
        "microprecmeans, microprecmins, microprecmaxs = list(),list(),list()\n",
        "\n",
        "callback = tf.keras.callbacks.EarlyStopping(monitor='val_loss', patience=3,min_delta=.001,mode='auto')\n",
        "foldNum=0\n",
        "k=5\n",
        "skf = StratifiedKFold(n_splits=k, shuffle=True)\n",
        "\n",
        "for train_index, val_index in skf.split(X, Y):\n",
        "             \n",
        "       foldNum+=1\n",
        "       model.compile(loss='categorical_crossentropy', optimizer='sgd',  metrics=['accuracy'] )\n",
        "       print(\"Results for fold\",foldNum)\n",
        "       X_train, X_val = X[train_index], X[val_index]\n",
        "       Y_train, Y_val = Y[train_index], Y[val_index]\n",
        "       for eachindex in range(len(X_val)):\n",
        "           shutil.move('/content/gdrive/MyDrive/Alldata/'+X_val[eachindex], \n",
        "                    'validation/'+X_val[eachindex])\n",
        "       \n",
        "       #Start ImageClassification Model\n",
        "       train_datagen = ImageDataGenerator(rotation_range=20, horizontal_flip=True,   vertical_flip=True,  preprocessing_function=preprocess_input)\n",
        "\n",
        "       validation_datagen = ImageDataGenerator( preprocessing_function=preprocess_input)\n",
        "       train_generator = train_datagen.flow_from_directory(\n",
        "            train_path,\n",
        "            shuffle= True,\n",
        "            target_size=IMAGE_SIZE,\n",
        "            batch_size=32,\n",
        "            subset='training')\n",
        "       validation_generator = validation_datagen.flow_from_directory(\n",
        "            validation_path,\n",
        "            target_size=IMAGE_SIZE,\n",
        "            batch_size=32,\n",
        "            shuffle=False)  \n",
        "       \n",
        "       #history=\n",
        "       model.fit(train_generator, \n",
        "                        epochs=40,\n",
        "                        validation_data = validation_generator,\n",
        "                        steps_per_epoch=int(len(X_train) // batch_size),\n",
        "                        validation_steps=int(len(X_val) // batch_size),\n",
        "                        callbacks=[callback])\n",
        "       predictions = model.predict(validation_generator, verbose=1)\n",
        "       #score = model.evaluate(validation_generator,batch_size =32)\n",
        "       #print('eval', score)\n",
        "       yPredictions = np.argmax(predictions, axis=1)\n",
        "       true_classes = validation_generator.classes\n",
        "       # evaluate validation performance\n",
        "       #print(\"***Performance on Validation data***\")\n",
        "       accuracy=accuracy_score(true_classes, yPredictions)\n",
        "       f1=f1_score(true_classes, yPredictions,average='macro')\n",
        "       microf1= f1_score(true_classes, yPredictions,average='micro')\n",
        "       precision= precision_score(true_classes, yPredictions,average='macro')\n",
        "       microprecision= precision_score(true_classes, yPredictions,average='micro')\n",
        "       #precision=precision_score(true_classes, yPredictions,average='weighted')\n",
        "       #f1Score=f1_score(true_classes, yPredictions, average='weighted') \n",
        "       #print(\"Accuracy  : {}\".format(accuracy))\n",
        "       #print(\"Precision : {}\".format(precision))\n",
        "       #print(\"f1Score : {}\".format(f1Score))\n",
        "       #cm=confusion_matrix(true_classes, yPredictions)\n",
        "       accuracy_list.append(accuracy)\n",
        "       f1_list.append(f1)\n",
        "       precision_list.append(precision)\n",
        "       microf1_list.append(microf1)\n",
        "       microprecision_list.append(microprecision)\n",
        "       #print(cm)\n",
        "       #valAcc, valPrec, valFScore = my_metrics(true_classes, yPredictions)\n",
        "       for returnindex in range(len(X_val)):\n",
        "            shutil.move('validation/'+X_val[returnindex],'/content/gdrive/MyDrive/Alldata/'+X_val[returnindex])\n",
        "#gotta change this to F1\n",
        "k_mean=statistics.mean(accuracy_list)\n",
        "k_max=max(accuracy_list)\n",
        "k_min=min(accuracy_list)\n",
        "means.append(k_mean)\n",
        "mins.append(k_mean - k_min)\n",
        "maxs.append(k_max - k_mean)\n",
        "#==================\n",
        "f1_mean=statistics.mean(f1_list)\n",
        "f1_max=max(f1_list)\n",
        "f1_min=min(f1_list)\n",
        "f1means.append(f1_mean)\n",
        "f1mins.append(f1_mean - f1_min)\n",
        "f1maxs.append(f1_max - f1_mean)\n",
        "#========================\n",
        "prec_mean=statistics.mean(precision_list)\n",
        "prec_max=max(precision_list)\n",
        "prec_min=min(precision_list)\n",
        "precmeans.append(prec_mean)\n",
        "precmins.append(prec_mean - prec_min)\n",
        "precmaxs.append(prec_max - prec_mean)\n",
        "#==========================\n",
        "microprec_mean=statistics.mean(microprecision_list)\n",
        "microprec_max=max(microprecision_list)\n",
        "microprec_min=min(microprecision_list)\n",
        "microprecmeans.append(microprec_mean)\n",
        "microprecmins.append(microprec_mean - microprec_min)\n",
        "microprecmaxs.append(microprec_max - microprec_mean)\n",
        "#===========================\n",
        "microf1_mean=statistics.mean(microf1_list)\n",
        "microf1_max=max(microf1_list)\n",
        "microf1_min=min(microf1_list)\n",
        "microf1means.append(microf1_mean)\n",
        "microf1mins.append(microf1_mean - microf1_min)\n",
        "microf1maxs.append(microf1_max - microf1_mean)\n",
        "\n",
        "print('Image_size and batch_size')\n",
        "print(IMAGE_SIZE,batch_size)\n",
        "print('Minimum Accuracy')\n",
        "print(mins)\n",
        "print('Maximum Accuracy')\n",
        "print(maxs)\n",
        "print('Average Accuracy')\n",
        "print(means)\n",
        "#=============\n",
        "print('Minimum macro precision')\n",
        "print(precmins)\n",
        "print('Maximum macro precision')\n",
        "print(precmaxs)\n",
        "print('Average macro precision')\n",
        "print(precmeans)\n",
        "#===============\n",
        "print('Minimum macro F1')\n",
        "print(f1mins)\n",
        "print('Maximum macro F1')\n",
        "print(f1maxs)\n",
        "print('Average macro F1')\n",
        "print(f1means)\n",
        "#===============\n",
        "print('Minimum micro precision')\n",
        "print(microprecmins)\n",
        "print('Maximum micro precision')\n",
        "print(microprecmaxs)\n",
        "print('Average micro precision')\n",
        "print(microprecmeans)\n",
        "#===============\n",
        "print('Minimum micro F1')\n",
        "print(microf1mins)\n",
        "print('Maximum micro F1')\n",
        "print(microf1maxs)\n",
        "print('Average micro F1')\n",
        "print(microf1means)\n",
        "#plt.errorbar(folds, means, yerr=[mins, maxs], fmt='o')\n",
        "# plot the ideal case in a separate color\n",
        "#plt.plot(folds, [ideal for _ in range(len(folds))], color='r')\n",
        "# show the plot\n",
        "#plt.show()\n",
        "   #model.fit_generator(train_generator, epochs=50,  verbose = 0, validation_data=test_generator)\n",
        "\n",
        "   #scores = model.evaluate(X[test], Y[test], verbose=0)\n",
        "   #print(\"%s: %.2f%%\" % (model.metrics_names[1], scores[1]*100))\n",
        "\n",
        "\n"
      ],
      "execution_count": null,
      "outputs": [
        {
          "output_type": "stream",
          "text": [
            "Results for fold 1\n",
            "Found 1964 images belonging to 3 classes.\n",
            "Found 492 images belonging to 3 classes.\n",
            "Epoch 1/40\n",
            "61/61 [==============================] - 1381s 22s/step - loss: 6.8364 - accuracy: 0.8188 - val_loss: 0.1409 - val_accuracy: 0.9563\n",
            "Epoch 2/40\n",
            "61/61 [==============================] - 12s 199ms/step - loss: 0.1099 - accuracy: 0.9565 - val_loss: 0.1170 - val_accuracy: 0.9688\n",
            "Epoch 3/40\n",
            "61/61 [==============================] - 12s 198ms/step - loss: 0.1090 - accuracy: 0.9640 - val_loss: 0.0756 - val_accuracy: 0.9771\n",
            "Epoch 4/40\n",
            "61/61 [==============================] - 12s 201ms/step - loss: 0.0589 - accuracy: 0.9797 - val_loss: 0.0606 - val_accuracy: 0.9812\n",
            "Epoch 5/40\n",
            "61/61 [==============================] - 12s 197ms/step - loss: 0.0627 - accuracy: 0.9824 - val_loss: 0.0755 - val_accuracy: 0.9792\n",
            "Epoch 6/40\n",
            "61/61 [==============================] - 12s 199ms/step - loss: 0.0309 - accuracy: 0.9880 - val_loss: 0.0750 - val_accuracy: 0.9812\n",
            "Epoch 7/40\n",
            "61/61 [==============================] - 12s 199ms/step - loss: 0.0316 - accuracy: 0.9921 - val_loss: 0.0691 - val_accuracy: 0.9812\n",
            "16/16 [==============================] - 2s 93ms/step\n",
            "Results for fold 2\n",
            "Found 1965 images belonging to 3 classes.\n",
            "Found 491 images belonging to 3 classes.\n",
            "Epoch 1/40\n",
            "61/61 [==============================] - 13s 208ms/step - loss: 0.0423 - accuracy: 0.9851 - val_loss: 0.0201 - val_accuracy: 0.9937\n",
            "Epoch 2/40\n",
            "61/61 [==============================] - 12s 200ms/step - loss: 0.0296 - accuracy: 0.9898 - val_loss: 0.0790 - val_accuracy: 0.9729\n",
            "Epoch 3/40\n",
            "61/61 [==============================] - 12s 198ms/step - loss: 0.0405 - accuracy: 0.9866 - val_loss: 0.0264 - val_accuracy: 0.9896\n",
            "Epoch 4/40\n",
            "61/61 [==============================] - 12s 199ms/step - loss: 0.0177 - accuracy: 0.9951 - val_loss: 0.0346 - val_accuracy: 0.9896\n",
            "16/16 [==============================] - 2s 107ms/step\n",
            "Results for fold 3\n",
            "Found 1965 images belonging to 3 classes.\n",
            "Found 491 images belonging to 3 classes.\n",
            "Epoch 1/40\n",
            "61/61 [==============================] - 13s 203ms/step - loss: 0.0181 - accuracy: 0.9917 - val_loss: 0.0212 - val_accuracy: 0.9896\n",
            "Epoch 2/40\n",
            "61/61 [==============================] - 12s 200ms/step - loss: 0.0191 - accuracy: 0.9916 - val_loss: 0.0326 - val_accuracy: 0.9875\n",
            "Epoch 3/40\n",
            "61/61 [==============================] - 12s 197ms/step - loss: 0.0104 - accuracy: 0.9969 - val_loss: 0.0140 - val_accuracy: 0.9917\n",
            "Epoch 4/40\n",
            "61/61 [==============================] - 12s 197ms/step - loss: 0.0205 - accuracy: 0.9936 - val_loss: 0.0179 - val_accuracy: 0.9917\n",
            "Epoch 5/40\n",
            "61/61 [==============================] - 12s 197ms/step - loss: 0.0130 - accuracy: 0.9959 - val_loss: 0.0298 - val_accuracy: 0.9896\n",
            "Epoch 6/40\n",
            "61/61 [==============================] - 12s 197ms/step - loss: 0.0178 - accuracy: 0.9934 - val_loss: 0.0162 - val_accuracy: 0.9896\n",
            "16/16 [==============================] - 2s 92ms/step\n",
            "Results for fold 4\n",
            "Found 1965 images belonging to 3 classes.\n",
            "Found 491 images belonging to 3 classes.\n",
            "Epoch 1/40\n",
            "61/61 [==============================] - 13s 203ms/step - loss: 0.0203 - accuracy: 0.9905 - val_loss: 0.0169 - val_accuracy: 0.9937\n",
            "Epoch 2/40\n",
            "61/61 [==============================] - 12s 196ms/step - loss: 0.0097 - accuracy: 0.9957 - val_loss: 0.0178 - val_accuracy: 0.9917\n",
            "Epoch 3/40\n",
            "61/61 [==============================] - 12s 202ms/step - loss: 0.0108 - accuracy: 0.9952 - val_loss: 0.0160 - val_accuracy: 0.9917\n",
            "Epoch 4/40\n",
            "61/61 [==============================] - 12s 200ms/step - loss: 0.0223 - accuracy: 0.9928 - val_loss: 0.0516 - val_accuracy: 0.9812\n",
            "16/16 [==============================] - 2s 90ms/step\n",
            "Results for fold 5\n",
            "Found 1965 images belonging to 3 classes.\n",
            "Found 491 images belonging to 3 classes.\n",
            "Epoch 1/40\n",
            "61/61 [==============================] - 13s 202ms/step - loss: 0.0159 - accuracy: 0.9934 - val_loss: 0.0050 - val_accuracy: 0.9979\n",
            "Epoch 2/40\n",
            "61/61 [==============================] - 12s 197ms/step - loss: 0.0064 - accuracy: 0.9979 - val_loss: 0.0043 - val_accuracy: 0.9979\n",
            "Epoch 3/40\n",
            "61/61 [==============================] - 12s 199ms/step - loss: 0.0082 - accuracy: 0.9979 - val_loss: 0.0070 - val_accuracy: 0.9979\n",
            "Epoch 4/40\n",
            "61/61 [==============================] - 12s 197ms/step - loss: 0.0071 - accuracy: 0.9982 - val_loss: 0.0054 - val_accuracy: 1.0000\n",
            "16/16 [==============================] - 2s 89ms/step\n",
            "Image_size and batch_size\n",
            "[100, 100] 32\n",
            "Minimum Accuracy\n",
            "[0.00932889573294915]\n",
            "Maximum Accuracy\n",
            "[0.015061348169489897]\n",
            "Average Accuracy\n",
            "[0.9849386518305101]\n",
            "Minimum macro precision\n",
            "[0.0097145589079346]\n",
            "Maximum macro precision\n",
            "[0.011192453257189983]\n",
            "Average macro precision\n",
            "[0.98880754674281]\n",
            "Minimum macro F1\n",
            "[0.013234491968964979]\n",
            "Maximum macro F1\n",
            "[0.019117296458427968]\n",
            "Average macro F1\n",
            "[0.980882703541572]\n",
            "Minimum micro precision\n",
            "[0.00932889573294915]\n",
            "Maximum micro precision\n",
            "[0.015061348169489897]\n",
            "Average micro precision\n",
            "[0.9849386518305101]\n",
            "Minimum micro F1\n",
            "[0.00932889573294915]\n",
            "Maximum micro F1\n",
            "[0.015061348169489897]\n",
            "Average micro F1\n",
            "[0.9849386518305101]\n"
          ],
          "name": "stdout"
        }
      ]
    },
    {
      "cell_type": "code",
      "metadata": {
        "id": "xWHtPk1bmf-s"
      },
      "source": [
        "####retrain on the entire dataset\n",
        "IMAGE_SIZE=[100,100]\n",
        "entire_datasetNN = VGG16(input_shape=IMAGE_SIZE + [3], weights='imagenet', include_top=False)  # do not include head, transfer learning\n",
        "for layer in entire_datasetNN.layers:\n",
        "    layer.trainable = False\n",
        "# layers creation - Here more can be added\n",
        "xlayers = layers.Flatten()(entire_datasetNN.output)\n",
        "xlayers = layers.Dense(1000, activation='relu')(xlayers)\n",
        "Alldataprediction = layers.Dense(3, activation='softmax')(xlayers)\n",
        "# creating a model object\n",
        "alldatamodel = Model(inputs=entire_datasetNN.input, outputs=Alldataprediction)\n",
        "sgd = optimizers.SGD(lr=0.01, decay=1e-6, momentum=0.9, nesterov=True)\n",
        "alldatamodel.compile(\n",
        "  loss='categorical_crossentropy',\n",
        "\n",
        "  optimizer='sgd',\n",
        "\n",
        "  metrics=['accuracy'] \n",
        "\n",
        ")\n"
      ],
      "execution_count": null,
      "outputs": []
    },
    {
      "cell_type": "code",
      "metadata": {
        "colab": {
          "base_uri": "https://localhost:8080/"
        },
        "id": "d1wnA83gt6xt",
        "outputId": "5159f6a6-1ee2-4aac-f900-f3e4a9f03c5d"
      },
      "source": [
        "Alldatatrain_path= '/content/gdrive/MyDrive/Alldata'\n",
        "Alldatavalidation_path= '/content/gdrive/MyDrive/Alldata'\n",
        "batch_size=32\n",
        "callback = tf.keras.callbacks.EarlyStopping(monitor='val_loss',min_delta=.001,patience=3,mode='auto')\n",
        "alldatatrain_datagen = ImageDataGenerator(rotation_range=20, horizontal_flip=True,   vertical_flip=True,  preprocessing_function=preprocess_input)\n",
        "#,  width_shift_range=0.2, height_shift_range=0.2,brightness_range=[0.4,1.5],zoom_range=0.3\n",
        "#\n",
        "alldatavalidation_datagen = ImageDataGenerator( preprocessing_function=preprocess_input)\n",
        "#Start ImageClassification Model\n",
        "alldatatrain_generator = alldatatrain_datagen.flow_from_directory(\n",
        "            Alldatatrain_path,\n",
        "            shuffle= True,\n",
        "            target_size=IMAGE_SIZE,\n",
        "            batch_size=32)\n",
        "alldatavalidation_generator = alldatavalidation_datagen.flow_from_directory(\n",
        "            Alldatavalidation_path,\n",
        "            target_size=IMAGE_SIZE,\n",
        "            batch_size=32,\n",
        "            shuffle=False)  \n",
        "       \n",
        "history=alldatamodel.fit(alldatatrain_generator, \n",
        "                        epochs=40,                       \n",
        "                        validation_data = alldatavalidation_generator,\n",
        "                        steps_per_epoch=int(2461 // batch_size),\n",
        "                        validation_steps=int(2461 // batch_size),    \n",
        "                        callbacks=[callback])"
      ],
      "execution_count": null,
      "outputs": [
        {
          "output_type": "stream",
          "text": [
            "Found 2461 images belonging to 3 classes.\n",
            "Found 2461 images belonging to 3 classes.\n",
            "Epoch 1/40\n",
            "76/76 [==============================] - 1115s 15s/step - loss: 10.5369 - accuracy: 0.8268 - val_loss: 0.1105 - val_accuracy: 0.9700\n",
            "Epoch 2/40\n",
            "76/76 [==============================] - 26s 340ms/step - loss: 0.1150 - accuracy: 0.9674 - val_loss: 0.0782 - val_accuracy: 0.9741\n",
            "Epoch 3/40\n",
            "76/76 [==============================] - 25s 336ms/step - loss: 0.0761 - accuracy: 0.9747 - val_loss: 0.0708 - val_accuracy: 0.9720\n",
            "Epoch 4/40\n",
            "76/76 [==============================] - 25s 334ms/step - loss: 0.0664 - accuracy: 0.9775 - val_loss: 0.0592 - val_accuracy: 0.9778\n",
            "Epoch 5/40\n",
            "76/76 [==============================] - 25s 335ms/step - loss: 0.0454 - accuracy: 0.9856 - val_loss: 0.0371 - val_accuracy: 0.9868\n",
            "Epoch 6/40\n",
            "76/76 [==============================] - 25s 337ms/step - loss: 0.0404 - accuracy: 0.9841 - val_loss: 0.0385 - val_accuracy: 0.9868\n",
            "Epoch 7/40\n",
            "76/76 [==============================] - 26s 340ms/step - loss: 0.0292 - accuracy: 0.9900 - val_loss: 0.0326 - val_accuracy: 0.9860\n",
            "Epoch 8/40\n",
            "76/76 [==============================] - 26s 343ms/step - loss: 0.0326 - accuracy: 0.9891 - val_loss: 0.0261 - val_accuracy: 0.9901\n",
            "Epoch 9/40\n",
            "76/76 [==============================] - 25s 335ms/step - loss: 0.0291 - accuracy: 0.9917 - val_loss: 0.0243 - val_accuracy: 0.9889\n",
            "Epoch 10/40\n",
            "76/76 [==============================] - 25s 336ms/step - loss: 0.0229 - accuracy: 0.9922 - val_loss: 0.0177 - val_accuracy: 0.9951\n",
            "Epoch 11/40\n",
            "76/76 [==============================] - 26s 338ms/step - loss: 0.0251 - accuracy: 0.9914 - val_loss: 0.0230 - val_accuracy: 0.9905\n",
            "Epoch 12/40\n",
            "76/76 [==============================] - 25s 337ms/step - loss: 0.0187 - accuracy: 0.9941 - val_loss: 0.0137 - val_accuracy: 0.9975\n",
            "Epoch 13/40\n",
            "76/76 [==============================] - 26s 337ms/step - loss: 0.0198 - accuracy: 0.9929 - val_loss: 0.0140 - val_accuracy: 0.9963\n",
            "Epoch 14/40\n",
            "76/76 [==============================] - 26s 337ms/step - loss: 0.0129 - accuracy: 0.9942 - val_loss: 0.0258 - val_accuracy: 0.9922\n",
            "Epoch 15/40\n",
            "76/76 [==============================] - 25s 337ms/step - loss: 0.0074 - accuracy: 0.9975 - val_loss: 0.0302 - val_accuracy: 0.9873\n"
          ],
          "name": "stdout"
        }
      ]
    },
    {
      "cell_type": "code",
      "metadata": {
        "colab": {
          "base_uri": "https://localhost:8080/",
          "height": 299
        },
        "id": "CvcszPlD8Q8c",
        "outputId": "7ec174cd-1534-476e-9ca6-60c8bd4cbfe7"
      },
      "source": [
        "###save the model \n",
        "###plot the graphs\n",
        "\n",
        "entire_datasetNN.save('ImagenetFreezingAlldata.h5')\n",
        "import matplotlib.pyplot as plt\n",
        "acc = history.history['accuracy']\n",
        "val_acc = history.history['val_accuracy']\n",
        "loss = history.history['loss']\n",
        "val_loss = history.history['val_loss']\n",
        "\n",
        "epochs = range(len(acc))\n",
        "\n",
        "plt.plot(epochs, acc, 'r', label='Training accuracy')\n",
        "plt.plot(epochs, loss, 'b', label='Training loss')\n",
        "plt.title('Training accuracy and loss')\n",
        "plt.legend(loc=0)\n",
        "plt.figure()\n",
        "\n",
        "\n",
        "plt.show()"
      ],
      "execution_count": null,
      "outputs": [
        {
          "output_type": "display_data",
          "data": {
            "image/png": "[encoded data removed]",
            "text/plain": [
              "<Figure size 432x288 with 1 Axes>"
            ]
          },
          "metadata": {
            "tags": [],
            "needs_background": "light"
          }
        },
        {
          "output_type": "display_data",
          "data": {
            "text/plain": [
              "<Figure size 432x288 with 0 Axes>"
            ]
          },
          "metadata": {
            "tags": []
          }
        }
      ]
    },
    {
      "cell_type": "code",
      "metadata": {
        "colab": {
          "base_uri": "https://localhost:8080/",
          "height": 299
        },
        "id": "1jP-cURr-FOt",
        "outputId": "cb43ef50-e664-4c2c-c64c-071888061889"
      },
      "source": [
        "plt.plot(epochs, val_acc, 'r', label='Validation accuracy')\n",
        "plt.plot(epochs, val_loss, 'b', label='Validation loss')\n",
        "plt.title('Validation accuracy and loss')\n",
        "plt.legend(loc=0)\n",
        "plt.figure()\n",
        "\n",
        "\n",
        "plt.show()"
      ],
      "execution_count": null,
      "outputs": [
        {
          "output_type": "display_data",
          "data": {
            "image/png": "[encoded data removed]",
            "text/plain": [
              "<Figure size 432x288 with 1 Axes>"
            ]
          },
          "metadata": {
            "tags": [],
            "needs_background": "light"
          }
        },
        {
          "output_type": "display_data",
          "data": {
            "text/plain": [
              "<Figure size 432x288 with 0 Axes>"
            ]
          },
          "metadata": {
            "tags": []
          }
        }
      ]
    },
    {
      "cell_type": "code",
      "metadata": {
        "colab": {
          "base_uri": "https://localhost:8080/",
          "height": 299
        },
        "id": "ca8X0xCx-Viz",
        "outputId": "cc6f4b64-d7c8-4a06-9954-5a8ac3443091"
      },
      "source": [
        "plt.plot(epochs, acc, 'r', label='Training accuracy')\n",
        "plt.plot(epochs, val_acc, 'b', label='Validation accuracy')\n",
        "plt.title('Training and validation accuracy')\n",
        "plt.legend(loc=0)\n",
        "plt.figure()\n",
        "\n",
        "\n",
        "plt.show()"
      ],
      "execution_count": null,
      "outputs": [
        {
          "output_type": "display_data",
          "data": {
            "image/png": "[encoded data removed]",
            "text/plain": [
              "<Figure size 432x288 with 1 Axes>"
            ]
          },
          "metadata": {
            "tags": [],
            "needs_background": "light"
          }
        },
        {
          "output_type": "display_data",
          "data": {
            "text/plain": [
              "<Figure size 432x288 with 0 Axes>"
            ]
          },
          "metadata": {
            "tags": []
          }
        }
      ]
    },
    {
      "cell_type": "code",
      "metadata": {
        "colab": {
          "base_uri": "https://localhost:8080/",
          "height": 299
        },
        "id": "gkP8O90q_KUw",
        "outputId": "a3b9fe74-b6e1-45da-e692-97fcea39840c"
      },
      "source": [
        "plt.plot(epochs, loss, 'r', label='Training loss')\n",
        "plt.plot(epochs, val_loss, 'b', label='Validation loss')\n",
        "plt.title('Training and validation accuracy')\n",
        "plt.legend(loc=0)\n",
        "plt.figure()\n",
        "\n",
        "\n",
        "plt.show()"
      ],
      "execution_count": null,
      "outputs": [
        {
          "output_type": "display_data",
          "data": {
            "image/png": "[encoded data removed]",
            "text/plain": [
              "<Figure size 432x288 with 1 Axes>"
            ]
          },
          "metadata": {
            "tags": [],
            "needs_background": "light"
          }
        },
        {
          "output_type": "display_data",
          "data": {
            "text/plain": [
              "<Figure size 432x288 with 0 Axes>"
            ]
          },
          "metadata": {
            "tags": []
          }
        }
      ]
    },
    {
      "cell_type": "code",
      "metadata": {
        "colab": {
          "base_uri": "https://localhost:8080/"
        },
        "id": "cpGRH4f4_fpd",
        "outputId": "9090aa62-1716-43fb-e9b0-e46789cc50f8"
      },
      "source": [
        "###get all the metrics \n",
        "from sklearn.metrics import accuracy_score, f1_score, precision_score, confusion_matrix\n",
        "alldatapredictions = alldatamodel.predict(alldatavalidation_generator, verbose=1)\n",
        "alldatayPredictions = np.argmax(alldatapredictions, axis=1)\n",
        "alldatatrue_classes = alldatavalidation_generator.classes"
      ],
      "execution_count": null,
      "outputs": [
        {
          "output_type": "stream",
          "text": [
            "77/77 [==============================] - 10s 130ms/step\n"
          ],
          "name": "stdout"
        }
      ]
    },
    {
      "cell_type": "code",
      "metadata": {
        "colab": {
          "base_uri": "https://localhost:8080/"
        },
        "id": "DH7JGBkRJZHQ",
        "outputId": "7bdc4c66-71eb-4378-b850-29fde3cef26a"
      },
      "source": [
        "alldataaccuracy= accuracy_score(alldatatrue_classes, alldatayPredictions)\n",
        "Macroalldataf1=f1_score(alldatatrue_classes, alldatayPredictions,average='macro')\n",
        "Microalldataf1=f1_score(alldatatrue_classes, alldatayPredictions,average='micro')\n",
        "Macroalldataprecision=precision_score(alldatatrue_classes, alldatayPredictions,average='macro')\n",
        "Microalldataprecision=precision_score(alldatatrue_classes, alldatayPredictions,average='micro')\n",
        "print('Accuracy' ,alldataaccuracy)\n",
        "print('Macro f1' ,Macroalldataf1)\n",
        "print('Micro f1' ,Microalldataf1)\n",
        "print('Macro precision' ,Macroalldataprecision)\n",
        "print('Micro precision' ,Microalldataprecision)\n",
        "alldataCM= confusion_matrix(alldatatrue_classes, alldatayPredictions)\n",
        "print(alldataCM)"
      ],
      "execution_count": null,
      "outputs": [
        {
          "output_type": "stream",
          "text": [
            "Accuracy 0.9865908167411621\n",
            "Macro f1 0.9844221184037578\n",
            "Micro f1 0.9865908167411621\n",
            "Macro precision 0.9928571428571429\n",
            "Micro precision 0.9865908167411621\n",
            "[[ 478    1    0]\n",
            " [   0 1507    0]\n",
            " [   0   32  443]]\n"
          ],
          "name": "stdout"
        }
      ]
    }
  ]
}