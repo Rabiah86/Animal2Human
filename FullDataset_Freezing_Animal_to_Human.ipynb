{
  "nbformat": 4,
  "nbformat_minor": 0,
  "metadata": {
    "colab": {
      "name": "FullDataset-Freezing-Animal to Human.ipynb",
      "provenance": [],
      "collapsed_sections": [],
      "authorship_tag": "ABX9TyP/98j4F+o83pIh4vhhoZJE"
    },
    "kernelspec": {
      "name": "python3",
      "display_name": "Python 3"
    },
    "language_info": {
      "name": "python"
    }
  },
  "cells": [
    {
      "cell_type": "code",
      "metadata": {
        "id": "Y04rYVmZ8bwf"
      },
      "source": [
        "import os\n",
        "import tensorflow as tf\n",
        "import numpy as np #adds support for large, multi-dimensional arrays and matrices, along with a large collection of high-level mathematical functions to operate on these arrays\n",
        "import pandas as pd #data structures and operations for manipulating numerical tables and time series\n",
        "import sys # system path io\n",
        "import glob #glob module is used to retrieve files/pathnames matching a specified pattern\n",
        "from tqdm import tqdm # show progress bar when a loop is running\n",
        "from plotly.offline import download_plotlyjs, init_notebook_mode, iplot\n",
        "from plotly import tools\n",
        "from plotly.graph_objs import *\n",
        "from plotly.graph_objs.layout import Margin, YAxis, XAxis\n",
        "init_notebook_mode()\n",
        "import matplotlib.pyplot as plt\n",
        "from matplotlib import patches as patches\n",
        "from pathlib import Path\n",
        "import xml.etree.ElementTree as ET\n",
        "from keras.callbacks import EarlyStopping\n",
        "from sklearn.metrics import accuracy_score, f1_score, precision_score, confusion_matrix\n",
        "from sklearn.model_selection import KFold, StratifiedKFold\n",
        "from keras.applications.vgg16 import VGG16, preprocess_input\n",
        "from keras.preprocessing import image\n",
        "from keras.preprocessing.image import ImageDataGenerator\n",
        "from keras import optimizers\n",
        "from keras import backend as K\n",
        "import io\n",
        "from google.colab import drive\n",
        "from sklearn.model_selection import KFold, StratifiedKFold,LeaveOneOut\n",
        "from keras.layers import Input, Lambda, Dense, Flatten\n",
        "from keras.models import Model\n",
        "from keras.preprocessing import image\n",
        "from keras.preprocessing.image import ImageDataGenerator\n",
        "from keras import optimizers\n",
        "from keras import backend as K\n",
        "from keras.callbacks import EarlyStopping\n",
        "import shutil\n",
        "import statistics\n",
        "from keras.models import Model\n",
        "from tensorflow.keras import layers\n",
        "drive.mount('/content/gdrive')\n"
      ],
      "execution_count": null,
      "outputs": []
    },
    {
      "cell_type": "code",
      "metadata": {
        "colab": {
          "base_uri": "https://localhost:8080/",
          "height": 90
        },
        "id": "QBKuwHofvDkn",
        "outputId": "8dcbb34d-48e7-461d-a26b-9b1771ad7f82"
      },
      "source": [
        "!ls /content/gdrive/MyDrive/Alldata/BG  | wc -l\n",
        "!ls /content/gdrive/MyDrive/Alldata/reticulocyte  | wc -l\n",
        "!ls /content/gdrive/MyDrive/Alldata/erythrocyte  | wc -l\n",
        "'''\n",
        "479\n",
        "475\n",
        "1507\n",
        "'''"
      ],
      "execution_count": null,
      "outputs": [
        {
          "output_type": "stream",
          "text": [
            "479\n",
            "475\n",
            "1507\n"
          ],
          "name": "stdout"
        },
        {
          "output_type": "execute_result",
          "data": {
            "application/vnd.google.colaboratory.intrinsic+json": {
              "type": "string"
            },
            "text/plain": [
              "'\\n479\\n470\\n1507\\n'"
            ]
          },
          "metadata": {
            "tags": []
          },
          "execution_count": 24
        }
      ]
    },
    {
      "cell_type": "code",
      "metadata": {
        "colab": {
          "base_uri": "https://localhost:8080/"
        },
        "id": "cHYn5cdpsmPz",
        "outputId": "1d070528-4f21-4f7a-a76c-86e31c1948fe"
      },
      "source": [
        "#First need to trai on the feline reticulocyte\n",
        "IMAGE_SIZE=[100,100]\n",
        "res = VGG16(input_shape=IMAGE_SIZE + [3], weights=None, include_top=False)  # do not include head, transfer learning\n",
        "for layer in res.layers:\n",
        "    layer.trainable = True\n",
        "# layers creation - Here more can be added\n",
        "x = layers.Flatten()(res.output)\n",
        "x = layers.Dense(1000, activation='relu')(x)\n",
        "#x = layers.Dropout(0.6)(x)    \n",
        "prediction = layers.Dense(2, activation='softmax')(x)\n",
        "# creating a model object\n",
        "model = Model(inputs=res.input, outputs=prediction)\n",
        "sgd = optimizers.SGD(lr=0.01, decay=1e-6, momentum=0.9, nesterov=True)\n",
        "model.compile(\n",
        "\n",
        "  loss='categorical_crossentropy',\n",
        "\n",
        "  optimizer='sgd',\n",
        "\n",
        "  metrics=['accuracy'] \n",
        "\n",
        ")\n",
        "batch_size=32\n",
        "felinetrain_path= '/content/gdrive/MyDrive/felineAlldata'\n",
        "felinevalidation_path= '/content/gdrive/MyDrive/felineAlldata'\n",
        "callback = tf.keras.callbacks.EarlyStopping(monitor='val_loss',min_delta=.001,patience=10,mode='auto')\n",
        "felinetrain_datagen = ImageDataGenerator(rotation_range=20, horizontal_flip=True,   vertical_flip=True,  preprocessing_function=preprocess_input)\n",
        "\n",
        "felinevalidation_datagen = ImageDataGenerator( preprocessing_function=preprocess_input)\n",
        "#Start ImageClassification Model\n",
        "felinetrain_generator = felinetrain_datagen.flow_from_directory(\n",
        "            felinetrain_path,\n",
        "            shuffle= True,\n",
        "            target_size=IMAGE_SIZE,\n",
        "            batch_size=32)\n",
        "felinevalidation_generator = felinevalidation_datagen.flow_from_directory(\n",
        "            felinevalidation_path,\n",
        "            target_size=IMAGE_SIZE,\n",
        "            batch_size=32,\n",
        "            shuffle=False)  \n",
        "       \n",
        "#history=\n",
        "model.fit(felinetrain_generator, \n",
        "                        epochs=100,                       \n",
        "                        validation_data = felinevalidation_generator,\n",
        "                        steps_per_epoch=int(2942 // batch_size),\n",
        "                        validation_steps=int(2942 // batch_size),\n",
        "                        callbacks=[callback])\n",
        "                        "
      ],
      "execution_count": null,
      "outputs": [
        {
          "output_type": "stream",
          "text": [
            "Found 2942 images belonging to 2 classes.\n",
            "Found 2942 images belonging to 2 classes.\n",
            "Epoch 1/100\n",
            "91/91 [==============================] - 21s 198ms/step - loss: 0.6447 - accuracy: 0.6722 - val_loss: 0.5840 - val_accuracy: 0.7225\n",
            "Epoch 2/100\n",
            "91/91 [==============================] - 16s 179ms/step - loss: 0.6011 - accuracy: 0.7096 - val_loss: 0.5463 - val_accuracy: 0.7527\n",
            "Epoch 3/100\n",
            "91/91 [==============================] - 16s 181ms/step - loss: 0.5590 - accuracy: 0.7364 - val_loss: 0.5298 - val_accuracy: 0.7579\n",
            "Epoch 4/100\n",
            "91/91 [==============================] - 16s 179ms/step - loss: 0.5303 - accuracy: 0.7504 - val_loss: 0.5223 - val_accuracy: 0.7514\n",
            "Epoch 5/100\n",
            "91/91 [==============================] - 16s 181ms/step - loss: 0.5054 - accuracy: 0.7717 - val_loss: 0.4507 - val_accuracy: 0.8163\n",
            "Epoch 6/100\n",
            "91/91 [==============================] - 16s 181ms/step - loss: 0.4525 - accuracy: 0.8109 - val_loss: 0.4207 - val_accuracy: 0.8197\n",
            "Epoch 7/100\n",
            "91/91 [==============================] - 16s 181ms/step - loss: 0.4470 - accuracy: 0.8069 - val_loss: 0.4123 - val_accuracy: 0.8304\n",
            "Epoch 8/100\n",
            "91/91 [==============================] - 16s 180ms/step - loss: 0.4139 - accuracy: 0.8262 - val_loss: 0.4791 - val_accuracy: 0.7634\n",
            "Epoch 9/100\n",
            "91/91 [==============================] - 16s 180ms/step - loss: 0.4171 - accuracy: 0.8185 - val_loss: 0.4182 - val_accuracy: 0.8218\n",
            "Epoch 10/100\n",
            "91/91 [==============================] - 16s 179ms/step - loss: 0.3961 - accuracy: 0.8394 - val_loss: 0.3914 - val_accuracy: 0.8359\n",
            "Epoch 11/100\n",
            "91/91 [==============================] - 16s 180ms/step - loss: 0.3952 - accuracy: 0.8319 - val_loss: 0.3762 - val_accuracy: 0.8455\n",
            "Epoch 12/100\n",
            "91/91 [==============================] - 16s 180ms/step - loss: 0.3848 - accuracy: 0.8360 - val_loss: 0.3817 - val_accuracy: 0.8444\n",
            "Epoch 13/100\n",
            "91/91 [==============================] - 16s 179ms/step - loss: 0.3902 - accuracy: 0.8384 - val_loss: 0.3501 - val_accuracy: 0.8506\n",
            "Epoch 14/100\n",
            "91/91 [==============================] - 16s 179ms/step - loss: 0.3772 - accuracy: 0.8436 - val_loss: 0.3559 - val_accuracy: 0.8620\n",
            "Epoch 15/100\n",
            "91/91 [==============================] - 16s 180ms/step - loss: 0.3818 - accuracy: 0.8405 - val_loss: 0.3374 - val_accuracy: 0.8602\n",
            "Epoch 16/100\n",
            "91/91 [==============================] - 16s 179ms/step - loss: 0.3744 - accuracy: 0.8495 - val_loss: 0.3395 - val_accuracy: 0.8530\n",
            "Epoch 17/100\n",
            "91/91 [==============================] - 16s 181ms/step - loss: 0.3593 - accuracy: 0.8538 - val_loss: 0.3354 - val_accuracy: 0.8585\n",
            "Epoch 18/100\n",
            "91/91 [==============================] - 16s 179ms/step - loss: 0.3453 - accuracy: 0.8556 - val_loss: 0.3659 - val_accuracy: 0.8516\n",
            "Epoch 19/100\n",
            "91/91 [==============================] - 17s 184ms/step - loss: 0.3187 - accuracy: 0.8608 - val_loss: 0.3140 - val_accuracy: 0.8702\n",
            "Epoch 20/100\n",
            "91/91 [==============================] - 17s 182ms/step - loss: 0.3415 - accuracy: 0.8583 - val_loss: 0.3997 - val_accuracy: 0.8225\n",
            "Epoch 21/100\n",
            "91/91 [==============================] - 16s 180ms/step - loss: 0.3313 - accuracy: 0.8623 - val_loss: 0.3195 - val_accuracy: 0.8771\n",
            "Epoch 22/100\n",
            "91/91 [==============================] - 16s 180ms/step - loss: 0.3176 - accuracy: 0.8686 - val_loss: 0.4921 - val_accuracy: 0.7157\n",
            "Epoch 23/100\n",
            "91/91 [==============================] - 17s 182ms/step - loss: 0.3301 - accuracy: 0.8644 - val_loss: 0.2827 - val_accuracy: 0.8935\n",
            "Epoch 24/100\n",
            "91/91 [==============================] - 16s 180ms/step - loss: 0.3113 - accuracy: 0.8701 - val_loss: 0.2993 - val_accuracy: 0.8702\n",
            "Epoch 25/100\n",
            "91/91 [==============================] - 16s 180ms/step - loss: 0.3079 - accuracy: 0.8642 - val_loss: 0.3142 - val_accuracy: 0.8623\n",
            "Epoch 26/100\n",
            "91/91 [==============================] - 16s 180ms/step - loss: 0.2955 - accuracy: 0.8742 - val_loss: 0.3222 - val_accuracy: 0.8716\n",
            "Epoch 27/100\n",
            "91/91 [==============================] - 16s 181ms/step - loss: 0.2944 - accuracy: 0.8768 - val_loss: 0.2753 - val_accuracy: 0.8798\n",
            "Epoch 28/100\n",
            "91/91 [==============================] - 16s 180ms/step - loss: 0.2880 - accuracy: 0.8753 - val_loss: 0.3113 - val_accuracy: 0.8685\n",
            "Epoch 29/100\n",
            "91/91 [==============================] - 16s 181ms/step - loss: 0.2847 - accuracy: 0.8797 - val_loss: 0.2489 - val_accuracy: 0.8963\n",
            "Epoch 30/100\n",
            "91/91 [==============================] - 17s 182ms/step - loss: 0.2735 - accuracy: 0.8899 - val_loss: 0.2411 - val_accuracy: 0.9014\n",
            "Epoch 31/100\n",
            "91/91 [==============================] - 16s 180ms/step - loss: 0.2602 - accuracy: 0.8988 - val_loss: 0.2426 - val_accuracy: 0.9124\n",
            "Epoch 32/100\n",
            "91/91 [==============================] - 16s 177ms/step - loss: 0.2637 - accuracy: 0.8983 - val_loss: 0.2303 - val_accuracy: 0.9076\n",
            "Epoch 33/100\n",
            "91/91 [==============================] - 16s 181ms/step - loss: 0.2699 - accuracy: 0.8931 - val_loss: 0.2227 - val_accuracy: 0.9155\n",
            "Epoch 34/100\n",
            "91/91 [==============================] - 16s 179ms/step - loss: 0.2604 - accuracy: 0.9024 - val_loss: 0.2780 - val_accuracy: 0.8887\n",
            "Epoch 35/100\n",
            "91/91 [==============================] - 16s 178ms/step - loss: 0.2445 - accuracy: 0.9002 - val_loss: 0.2139 - val_accuracy: 0.9145\n",
            "Epoch 36/100\n",
            "91/91 [==============================] - 16s 177ms/step - loss: 0.2405 - accuracy: 0.9046 - val_loss: 0.2233 - val_accuracy: 0.9162\n",
            "Epoch 37/100\n",
            "91/91 [==============================] - 16s 180ms/step - loss: 0.2418 - accuracy: 0.9029 - val_loss: 0.2255 - val_accuracy: 0.9179\n",
            "Epoch 38/100\n",
            "91/91 [==============================] - 17s 185ms/step - loss: 0.2488 - accuracy: 0.8974 - val_loss: 0.2465 - val_accuracy: 0.9066\n",
            "Epoch 39/100\n",
            "91/91 [==============================] - 16s 179ms/step - loss: 0.2261 - accuracy: 0.9054 - val_loss: 0.2267 - val_accuracy: 0.9056\n",
            "Epoch 40/100\n",
            "91/91 [==============================] - 16s 180ms/step - loss: 0.2237 - accuracy: 0.9094 - val_loss: 0.2066 - val_accuracy: 0.9114\n",
            "Epoch 41/100\n",
            "91/91 [==============================] - 16s 179ms/step - loss: 0.2238 - accuracy: 0.9146 - val_loss: 0.1842 - val_accuracy: 0.9289\n",
            "Epoch 42/100\n",
            "91/91 [==============================] - 16s 178ms/step - loss: 0.2308 - accuracy: 0.9033 - val_loss: 0.1870 - val_accuracy: 0.9272\n",
            "Epoch 43/100\n",
            "91/91 [==============================] - 16s 179ms/step - loss: 0.2055 - accuracy: 0.9153 - val_loss: 0.2554 - val_accuracy: 0.8911\n",
            "Epoch 44/100\n",
            "91/91 [==============================] - 16s 177ms/step - loss: 0.2147 - accuracy: 0.9134 - val_loss: 0.1888 - val_accuracy: 0.9179\n",
            "Epoch 45/100\n",
            "91/91 [==============================] - 16s 181ms/step - loss: 0.2119 - accuracy: 0.9177 - val_loss: 0.1790 - val_accuracy: 0.9303\n",
            "Epoch 46/100\n",
            "91/91 [==============================] - 17s 182ms/step - loss: 0.2107 - accuracy: 0.9211 - val_loss: 0.1924 - val_accuracy: 0.9207\n",
            "Epoch 47/100\n",
            "91/91 [==============================] - 16s 179ms/step - loss: 0.1985 - accuracy: 0.9260 - val_loss: 0.2650 - val_accuracy: 0.8980\n",
            "Epoch 48/100\n",
            "91/91 [==============================] - 16s 177ms/step - loss: 0.2090 - accuracy: 0.9130 - val_loss: 0.1863 - val_accuracy: 0.9299\n",
            "Epoch 49/100\n",
            "91/91 [==============================] - 16s 180ms/step - loss: 0.1931 - accuracy: 0.9250 - val_loss: 0.1712 - val_accuracy: 0.9382\n",
            "Epoch 50/100\n",
            "91/91 [==============================] - 16s 178ms/step - loss: 0.1777 - accuracy: 0.9297 - val_loss: 0.1776 - val_accuracy: 0.9303\n",
            "Epoch 51/100\n",
            "91/91 [==============================] - 16s 178ms/step - loss: 0.1887 - accuracy: 0.9196 - val_loss: 0.3590 - val_accuracy: 0.8595\n",
            "Epoch 52/100\n",
            "91/91 [==============================] - 16s 179ms/step - loss: 0.2145 - accuracy: 0.9144 - val_loss: 0.1810 - val_accuracy: 0.9234\n",
            "Epoch 53/100\n",
            "91/91 [==============================] - 16s 179ms/step - loss: 0.1745 - accuracy: 0.9323 - val_loss: 0.1967 - val_accuracy: 0.9220\n",
            "Epoch 54/100\n",
            "91/91 [==============================] - 16s 178ms/step - loss: 0.1643 - accuracy: 0.9383 - val_loss: 0.1498 - val_accuracy: 0.9402\n",
            "Epoch 55/100\n",
            "91/91 [==============================] - 16s 180ms/step - loss: 0.1707 - accuracy: 0.9247 - val_loss: 0.2216 - val_accuracy: 0.9014\n",
            "Epoch 56/100\n",
            "91/91 [==============================] - 16s 180ms/step - loss: 0.1708 - accuracy: 0.9304 - val_loss: 0.1479 - val_accuracy: 0.9427\n",
            "Epoch 57/100\n",
            "91/91 [==============================] - 17s 184ms/step - loss: 0.1785 - accuracy: 0.9301 - val_loss: 0.1497 - val_accuracy: 0.9433\n",
            "Epoch 58/100\n",
            "91/91 [==============================] - 16s 177ms/step - loss: 0.1759 - accuracy: 0.9271 - val_loss: 0.1612 - val_accuracy: 0.9299\n",
            "Epoch 59/100\n",
            "91/91 [==============================] - 16s 180ms/step - loss: 0.1818 - accuracy: 0.9261 - val_loss: 0.1347 - val_accuracy: 0.9485\n",
            "Epoch 60/100\n",
            "91/91 [==============================] - 16s 180ms/step - loss: 0.1742 - accuracy: 0.9366 - val_loss: 0.1344 - val_accuracy: 0.9485\n",
            "Epoch 61/100\n",
            "91/91 [==============================] - 16s 180ms/step - loss: 0.1530 - accuracy: 0.9419 - val_loss: 0.1424 - val_accuracy: 0.9413\n",
            "Epoch 62/100\n",
            "91/91 [==============================] - 16s 178ms/step - loss: 0.1606 - accuracy: 0.9315 - val_loss: 0.1486 - val_accuracy: 0.9392\n",
            "Epoch 63/100\n",
            "91/91 [==============================] - 16s 179ms/step - loss: 0.1542 - accuracy: 0.9379 - val_loss: 0.1127 - val_accuracy: 0.9581\n",
            "Epoch 64/100\n",
            "91/91 [==============================] - 17s 182ms/step - loss: 0.1457 - accuracy: 0.9434 - val_loss: 0.1360 - val_accuracy: 0.9406\n",
            "Epoch 65/100\n",
            "91/91 [==============================] - 16s 178ms/step - loss: 0.1487 - accuracy: 0.9364 - val_loss: 0.1482 - val_accuracy: 0.9402\n",
            "Epoch 66/100\n",
            "91/91 [==============================] - 16s 178ms/step - loss: 0.1695 - accuracy: 0.9397 - val_loss: 0.1164 - val_accuracy: 0.9516\n",
            "Epoch 67/100\n",
            "91/91 [==============================] - 16s 180ms/step - loss: 0.1405 - accuracy: 0.9391 - val_loss: 0.1222 - val_accuracy: 0.9488\n",
            "Epoch 68/100\n",
            "91/91 [==============================] - 16s 178ms/step - loss: 0.1398 - accuracy: 0.9450 - val_loss: 0.1379 - val_accuracy: 0.9447\n",
            "Epoch 69/100\n",
            "91/91 [==============================] - 16s 179ms/step - loss: 0.1468 - accuracy: 0.9432 - val_loss: 0.1160 - val_accuracy: 0.9543\n",
            "Epoch 70/100\n",
            "91/91 [==============================] - 16s 178ms/step - loss: 0.1404 - accuracy: 0.9433 - val_loss: 0.1545 - val_accuracy: 0.9341\n",
            "Epoch 71/100\n",
            "91/91 [==============================] - 16s 179ms/step - loss: 0.1203 - accuracy: 0.9503 - val_loss: 0.1215 - val_accuracy: 0.9519\n",
            "Epoch 72/100\n",
            "91/91 [==============================] - 16s 179ms/step - loss: 0.1329 - accuracy: 0.9424 - val_loss: 0.1043 - val_accuracy: 0.9574\n",
            "Epoch 73/100\n",
            "91/91 [==============================] - 17s 186ms/step - loss: 0.1522 - accuracy: 0.9415 - val_loss: 0.1296 - val_accuracy: 0.9512\n",
            "Epoch 74/100\n",
            "91/91 [==============================] - 16s 181ms/step - loss: 0.1438 - accuracy: 0.9438 - val_loss: 0.1102 - val_accuracy: 0.9591\n",
            "Epoch 75/100\n",
            "91/91 [==============================] - 16s 179ms/step - loss: 0.1414 - accuracy: 0.9405 - val_loss: 0.1197 - val_accuracy: 0.9564\n",
            "Epoch 76/100\n",
            "91/91 [==============================] - 17s 182ms/step - loss: 0.1188 - accuracy: 0.9503 - val_loss: 0.1039 - val_accuracy: 0.9564\n",
            "Epoch 77/100\n",
            "91/91 [==============================] - 16s 179ms/step - loss: 0.1291 - accuracy: 0.9452 - val_loss: 0.0997 - val_accuracy: 0.9595\n",
            "Epoch 78/100\n",
            "91/91 [==============================] - 16s 181ms/step - loss: 0.1153 - accuracy: 0.9555 - val_loss: 0.0982 - val_accuracy: 0.9574\n",
            "Epoch 79/100\n",
            "91/91 [==============================] - 16s 180ms/step - loss: 0.1126 - accuracy: 0.9573 - val_loss: 0.1385 - val_accuracy: 0.9396\n",
            "Epoch 80/100\n",
            "91/91 [==============================] - 16s 178ms/step - loss: 0.1188 - accuracy: 0.9524 - val_loss: 0.0980 - val_accuracy: 0.9646\n",
            "Epoch 81/100\n",
            "91/91 [==============================] - 16s 178ms/step - loss: 0.1174 - accuracy: 0.9493 - val_loss: 0.1099 - val_accuracy: 0.9526\n",
            "Epoch 82/100\n",
            "91/91 [==============================] - 17s 182ms/step - loss: 0.1091 - accuracy: 0.9569 - val_loss: 0.0977 - val_accuracy: 0.9639\n",
            "Epoch 83/100\n",
            "91/91 [==============================] - 16s 180ms/step - loss: 0.1162 - accuracy: 0.9567 - val_loss: 0.0833 - val_accuracy: 0.9718\n",
            "Epoch 84/100\n",
            "91/91 [==============================] - 16s 178ms/step - loss: 0.1134 - accuracy: 0.9645 - val_loss: 0.0804 - val_accuracy: 0.9667\n",
            "Epoch 85/100\n",
            "91/91 [==============================] - 16s 178ms/step - loss: 0.1049 - accuracy: 0.9593 - val_loss: 0.0906 - val_accuracy: 0.9622\n",
            "Epoch 86/100\n",
            "91/91 [==============================] - 16s 178ms/step - loss: 0.1167 - accuracy: 0.9588 - val_loss: 0.0818 - val_accuracy: 0.9688\n",
            "Epoch 87/100\n",
            "91/91 [==============================] - 16s 177ms/step - loss: 0.1039 - accuracy: 0.9556 - val_loss: 0.0816 - val_accuracy: 0.9701\n",
            "Epoch 88/100\n",
            "91/91 [==============================] - 16s 180ms/step - loss: 0.1151 - accuracy: 0.9511 - val_loss: 0.0820 - val_accuracy: 0.9660\n",
            "Epoch 89/100\n",
            "91/91 [==============================] - 16s 181ms/step - loss: 0.1013 - accuracy: 0.9599 - val_loss: 0.1423 - val_accuracy: 0.9413\n",
            "Epoch 90/100\n",
            "91/91 [==============================] - 16s 180ms/step - loss: 0.1159 - accuracy: 0.9483 - val_loss: 0.0726 - val_accuracy: 0.9736\n",
            "Epoch 91/100\n",
            "91/91 [==============================] - 16s 180ms/step - loss: 0.1130 - accuracy: 0.9538 - val_loss: 0.1013 - val_accuracy: 0.9574\n",
            "Epoch 92/100\n",
            "91/91 [==============================] - 16s 179ms/step - loss: 0.1030 - accuracy: 0.9568 - val_loss: 0.1038 - val_accuracy: 0.9595\n",
            "Epoch 93/100\n",
            "91/91 [==============================] - 16s 178ms/step - loss: 0.0877 - accuracy: 0.9663 - val_loss: 0.0700 - val_accuracy: 0.9712\n",
            "Epoch 94/100\n",
            "91/91 [==============================] - 16s 176ms/step - loss: 0.0839 - accuracy: 0.9684 - val_loss: 0.0807 - val_accuracy: 0.9708\n",
            "Epoch 95/100\n",
            "91/91 [==============================] - 17s 182ms/step - loss: 0.0979 - accuracy: 0.9617 - val_loss: 0.0962 - val_accuracy: 0.9595\n",
            "Epoch 96/100\n",
            "91/91 [==============================] - 16s 178ms/step - loss: 0.1151 - accuracy: 0.9508 - val_loss: 0.0674 - val_accuracy: 0.9770\n",
            "Epoch 97/100\n",
            "91/91 [==============================] - 16s 177ms/step - loss: 0.0929 - accuracy: 0.9645 - val_loss: 0.0699 - val_accuracy: 0.9742\n",
            "Epoch 98/100\n",
            "91/91 [==============================] - 16s 177ms/step - loss: 0.0988 - accuracy: 0.9595 - val_loss: 0.1055 - val_accuracy: 0.9536\n",
            "Epoch 99/100\n",
            "91/91 [==============================] - 16s 175ms/step - loss: 0.0989 - accuracy: 0.9642 - val_loss: 0.0670 - val_accuracy: 0.9791\n",
            "Epoch 100/100\n",
            "91/91 [==============================] - 16s 177ms/step - loss: 0.0791 - accuracy: 0.9742 - val_loss: 0.0575 - val_accuracy: 0.9784\n"
          ],
          "name": "stdout"
        },
        {
          "output_type": "execute_result",
          "data": {
            "text/plain": [
              "<tensorflow.python.keras.callbacks.History at 0x7f84981cd410>"
            ]
          },
          "metadata": {
            "tags": []
          },
          "execution_count": 2
        }
      ]
    },
    {
      "cell_type": "code",
      "metadata": {
        "id": "6yRsmfX7GM-7"
      },
      "source": [
        "model.save('Felinepretraiedweights.h5')"
      ],
      "execution_count": null,
      "outputs": []
    },
    {
      "cell_type": "code",
      "metadata": {
        "colab": {
          "base_uri": "https://localhost:8080/"
        },
        "id": "gvbIxvWpHBjJ",
        "outputId": "e79519d5-54b7-4a68-970b-7df49e86f142"
      },
      "source": [
        "from sklearn.metrics import accuracy_score, f1_score, precision_score, confusion_matrix\n",
        "predictions = model.predict(felinevalidation_generator, verbose=1)\n",
        "yPredictions = np.argmax(predictions, axis=1)\n",
        "true_classes = felinevalidation_generator.classes\n",
        "# evaluate validation performance\n",
        "#print(\"***Performance on Validation data***\")\n",
        "print(yPredictions)\n",
        "accuracy= accuracy_score(true_classes, yPredictions)\n",
        "f1=f1_score(true_classes, yPredictions,average='macro')\n",
        "Microf1=f1_score(true_classes, yPredictions,average='micro')\n",
        "Macroprecision =precision_score(true_classes, yPredictions,average='macro')\n",
        "Microprecision =precision_score(true_classes, yPredictions,average='micro')\n",
        "print('acc' ,accuracy)\n",
        "print('Macro f1' ,f1)\n",
        "print('Micro f1' ,f1)\n",
        "print('Macro precision',Macroprecision)\n",
        "print('Micro precision',Microprecision)\n",
        "CM= confusion_matrix(true_classes, yPredictions)\n",
        "print(CM)"
      ],
      "execution_count": null,
      "outputs": [
        {
          "output_type": "stream",
          "text": [
            "92/92 [==============================] - 5s 52ms/step\n",
            "[0 0 0 ... 1 1 1]\n",
            "acc 0.978585995921142\n",
            "Macro f1 0.9756012059727852\n",
            "Micro f1 0.9756012059727852\n",
            "Macro precision 0.9765111576419521\n",
            "Micro precision 0.978585995921142\n",
            "[[1954   28]\n",
            " [  35  925]]\n"
          ],
          "name": "stdout"
        }
      ]
    },
    {
      "cell_type": "code",
      "metadata": {
        "colab": {
          "base_uri": "https://localhost:8080/"
        },
        "id": "FvvUri2ZIM0b",
        "outputId": "d3a72f1c-a45a-4a07-8493-2d3cd8eb000d"
      },
      "source": [
        "#print(len(model.layers))\n",
        "index=1\n",
        "\n",
        "for layer in model.layers:\n",
        "  if index <= 19:\n",
        "     layer.trainable = False\n",
        "  \n",
        "  index=index+1\n",
        "print(len(model.layers))"
      ],
      "execution_count": null,
      "outputs": [
        {
          "output_type": "stream",
          "text": [
            "22\n"
          ],
          "name": "stdout"
        }
      ]
    },
    {
      "cell_type": "code",
      "metadata": {
        "id": "LKWdaPa9kted"
      },
      "source": [
        "########## SAVE THE FELINE EASIER FOR NEXT TIME?\n",
        "!mkdir validation\n",
        "!mkdir validation/reticulocyte\n",
        "!mkdir validation/erythrocyte\n",
        "!mkdir validation/BG"
      ],
      "execution_count": null,
      "outputs": []
    },
    {
      "cell_type": "code",
      "metadata": {
        "colab": {
          "base_uri": "https://localhost:8080/"
        },
        "id": "nD3w6Zn1Nknj",
        "outputId": "5a5a11e0-f797-4d24-f749-a934049d007b"
      },
      "source": [
        "import PIL\n",
        "X=[]\n",
        "Y=[]\n",
        "base_dir=\"/content/gdrive/MyDrive/Alldata\"\n",
        "labels_list=['erythrocyte','reticulocyte','BG']#retic_df[\"class\"].unique().tolist()\n",
        "dir=os.getcwd()\n",
        "for directory in labels_list:\n",
        "    print(directory)\n",
        "    #print(len(os.listdir(base_dir+'/'+directory)))\n",
        "    for files in os.listdir(base_dir+'/'+directory):\n",
        "        #img = Image.open(directory+'/'+files)\n",
        "        #img = img.convert('L')\n",
        "        #img = img.resize((IMG_SIZE, IMG_SIZE), Image.ANTIALIAS)\n",
        "        X.append(directory+'/'+files)\n",
        "        #X.append([np.array(img)])\n",
        "        current_index=labels_list.index(directory)\n",
        "        Y.append(current_index)\n",
        "X=np.asarray(X)\n",
        "Y=np.asarray(Y)"
      ],
      "execution_count": null,
      "outputs": [
        {
          "output_type": "stream",
          "text": [
            "erythrocyte\n",
            "reticulocyte\n",
            "BG\n"
          ],
          "name": "stdout"
        }
      ]
    },
    {
      "cell_type": "code",
      "metadata": {
        "colab": {
          "base_uri": "https://localhost:8080/"
        },
        "id": "zmm27GwbNy6i",
        "outputId": "e0e683af-609d-40cb-e6a2-6c28f537ddb4"
      },
      "source": [
        "NN= Model(inputs=model.input, outputs=model.layers[-4].output)\n",
        "\n",
        "x1 = layers.Flatten()(NN.output)\n",
        "x1 = layers.Dense(1000, activation='relu')(x1)#kernel_initializer=tf.keras.initializers.glorot_uniform(seed=66)\n",
        "  \n",
        "x1 = layers.Dense(3, activation='softmax')(x1)\n",
        "# creating a model object\n",
        "NN = Model( NN.input, x1) \n",
        "print(len(NN.layers))\n",
        "sgd = optimizers.SGD(lr=0.01, decay=1e-6, momentum=.9, nesterov=True)\n",
        "\n",
        "NN.compile(\n",
        " loss='categorical_crossentropy',\n",
        "\n",
        "  optimizer=sgd,\n",
        "\n",
        "  metrics=['accuracy'] \n",
        "\n",
        ")\n",
        "NN.summary()"
      ],
      "execution_count": null,
      "outputs": [
        {
          "output_type": "stream",
          "text": [
            "22\n",
            "Model: \"model_19\"\n",
            "_________________________________________________________________\n",
            "Layer (type)                 Output Shape              Param #   \n",
            "=================================================================\n",
            "input_1 (InputLayer)         [(None, 100, 100, 3)]     0         \n",
            "_________________________________________________________________\n",
            "block1_conv1 (Conv2D)        (None, 100, 100, 64)      1792      \n",
            "_________________________________________________________________\n",
            "block1_conv2 (Conv2D)        (None, 100, 100, 64)      36928     \n",
            "_________________________________________________________________\n",
            "block1_pool (MaxPooling2D)   (None, 50, 50, 64)        0         \n",
            "_________________________________________________________________\n",
            "block2_conv1 (Conv2D)        (None, 50, 50, 128)       73856     \n",
            "_________________________________________________________________\n",
            "block2_conv2 (Conv2D)        (None, 50, 50, 128)       147584    \n",
            "_________________________________________________________________\n",
            "block2_pool (MaxPooling2D)   (None, 25, 25, 128)       0         \n",
            "_________________________________________________________________\n",
            "block3_conv1 (Conv2D)        (None, 25, 25, 256)       295168    \n",
            "_________________________________________________________________\n",
            "block3_conv2 (Conv2D)        (None, 25, 25, 256)       590080    \n",
            "_________________________________________________________________\n",
            "block3_conv3 (Conv2D)        (None, 25, 25, 256)       590080    \n",
            "_________________________________________________________________\n",
            "block3_pool (MaxPooling2D)   (None, 12, 12, 256)       0         \n",
            "_________________________________________________________________\n",
            "block4_conv1 (Conv2D)        (None, 12, 12, 512)       1180160   \n",
            "_________________________________________________________________\n",
            "block4_conv2 (Conv2D)        (None, 12, 12, 512)       2359808   \n",
            "_________________________________________________________________\n",
            "block4_conv3 (Conv2D)        (None, 12, 12, 512)       2359808   \n",
            "_________________________________________________________________\n",
            "block4_pool (MaxPooling2D)   (None, 6, 6, 512)         0         \n",
            "_________________________________________________________________\n",
            "block5_conv1 (Conv2D)        (None, 6, 6, 512)         2359808   \n",
            "_________________________________________________________________\n",
            "block5_conv2 (Conv2D)        (None, 6, 6, 512)         2359808   \n",
            "_________________________________________________________________\n",
            "block5_conv3 (Conv2D)        (None, 6, 6, 512)         2359808   \n",
            "_________________________________________________________________\n",
            "block5_pool (MaxPooling2D)   (None, 3, 3, 512)         0         \n",
            "_________________________________________________________________\n",
            "flatten_10 (Flatten)         (None, 4608)              0         \n",
            "_________________________________________________________________\n",
            "dense_20 (Dense)             (None, 1000)              4609000   \n",
            "_________________________________________________________________\n",
            "dense_21 (Dense)             (None, 3)                 3003      \n",
            "=================================================================\n",
            "Total params: 19,326,691\n",
            "Trainable params: 4,612,003\n",
            "Non-trainable params: 14,714,688\n",
            "_________________________________________________________________\n"
          ],
          "name": "stdout"
        }
      ]
    },
    {
      "cell_type": "code",
      "metadata": {
        "colab": {
          "base_uri": "https://localhost:8080/"
        },
        "id": "YUHxbVIsj_T5",
        "outputId": "c8de8cfd-3b90-4335-f542-fd60469becbc"
      },
      "source": [
        "#kfold = StratifiedKFold(n_splits=10, shuffle=True, random_state=7)\n",
        "cvscores = []\n",
        "\n",
        "validation_path=\"validation\"\n",
        "train_path= '/content/gdrive/MyDrive/Alldata/'\n",
        "#skf = StratifiedKFold(n_splits=2, shuffle=True)\n",
        "#skf.get_n_splits(X, Y)\n",
        "accuracy_list= list()\n",
        "precision_list=list()\n",
        "f1_list=list()\n",
        "microprecision_list=list()\n",
        "microf1_list=list()\n",
        "means, mins, maxs = list(),list(),list()\n",
        "f1means, f1mins, f1maxs = list(),list(),list()\n",
        "microf1means, microf1mins, microf1maxs = list(),list(),list()\n",
        "precmeans, precmins, precmaxs = list(),list(),list()\n",
        "microprecmeans, microprecmins, microprecmaxs = list(),list(),list()\n",
        "\n",
        "callback = tf.keras.callbacks.EarlyStopping(monitor='val_loss', patience=6,min_delta=.001,mode='auto')\n",
        "foldNum=0\n",
        "k=5\n",
        "skf = StratifiedKFold(n_splits=k, shuffle=True)\n",
        "\n",
        "for train_index, val_index in skf.split(X, Y):\n",
        "             \n",
        "       foldNum+=1\n",
        "       NN.compile(loss='categorical_crossentropy', optimizer='sgd',  metrics=['accuracy'] )\n",
        "       print(\"Results for fold\",foldNum)\n",
        "       X_train, X_val = X[train_index], X[val_index]\n",
        "       Y_train, Y_val = Y[train_index], Y[val_index]\n",
        "       for eachindex in range(len(X_val)):\n",
        "           shutil.move('/content/gdrive/MyDrive/Alldata/'+X_val[eachindex], \n",
        "                    'validation/'+X_val[eachindex])\n",
        "       \n",
        "       #Start ImageClassification Model\n",
        "       train_datagen = ImageDataGenerator(rotation_range=20, horizontal_flip=True,   vertical_flip=True,  preprocessing_function=preprocess_input)\n",
        "\n",
        "       validation_datagen = ImageDataGenerator( preprocessing_function=preprocess_input)\n",
        "       train_generator = train_datagen.flow_from_directory(\n",
        "            train_path,\n",
        "            shuffle= True,\n",
        "            target_size=IMAGE_SIZE,\n",
        "            batch_size=32,\n",
        "            subset='training')\n",
        "       validation_generator = validation_datagen.flow_from_directory(\n",
        "            validation_path,\n",
        "            target_size=IMAGE_SIZE,\n",
        "            batch_size=32,\n",
        "            shuffle=False)  \n",
        "       \n",
        "       #history=\n",
        "       NN.fit(train_generator, \n",
        "                        epochs=130,\n",
        "                        validation_data = validation_generator,\n",
        "                        steps_per_epoch=int(len(X_train) // batch_size),\n",
        "                        validation_steps=int(len(X_val) // batch_size),\n",
        "                        callbacks=[callback])\n",
        "       predictions = NN.predict(validation_generator, verbose=1)\n",
        "       #score = model.evaluate(validation_generator,batch_size =32)\n",
        "       #print('eval', score)\n",
        "       yPredictions = np.argmax(predictions, axis=1)\n",
        "       true_classes = validation_generator.classes\n",
        "       # evaluate validation performance\n",
        "       #print(\"***Performance on Validation data***\")\n",
        "       accuracy=accuracy_score(true_classes, yPredictions)\n",
        "       f1=f1_score(true_classes, yPredictions,average='macro')\n",
        "       microf1= f1_score(true_classes, yPredictions,average='micro')\n",
        "       precision= precision_score(true_classes, yPredictions,average='macro')\n",
        "       microprecision= precision_score(true_classes, yPredictions,average='micro')\n",
        "       #precision=precision_score(true_classes, yPredictions,average='weighted')\n",
        "       #f1Score=f1_score(true_classes, yPredictions, average='weighted') \n",
        "       #print(\"Accuracy  : {}\".format(accuracy))\n",
        "       #print(\"Precision : {}\".format(precision))\n",
        "       #print(\"f1Score : {}\".format(f1Score))\n",
        "       #cm=confusion_matrix(true_classes, yPredictions)\n",
        "       accuracy_list.append(accuracy)\n",
        "       f1_list.append(f1)\n",
        "       precision_list.append(precision)\n",
        "       microf1_list.append(microf1)\n",
        "       microprecision_list.append(microprecision)\n",
        "       #print(cm)\n",
        "       #valAcc, valPrec, valFScore = my_metrics(true_classes, yPredictions)\n",
        "       for returnindex in range(len(X_val)):\n",
        "            shutil.move('validation/'+X_val[returnindex],'/content/gdrive/MyDrive/Alldata/'+X_val[returnindex])\n",
        "#gotta change this to F1\n",
        "k_mean=statistics.mean(accuracy_list)\n",
        "k_max=max(accuracy_list)\n",
        "k_min=min(accuracy_list)\n",
        "means.append(k_mean)\n",
        "mins.append(k_mean - k_min)\n",
        "maxs.append(k_max - k_mean)\n",
        "#==================\n",
        "f1_mean=statistics.mean(f1_list)\n",
        "f1_max=max(f1_list)\n",
        "f1_min=min(f1_list)\n",
        "f1means.append(f1_mean)\n",
        "f1mins.append(f1_mean - f1_min)\n",
        "f1maxs.append(f1_max - f1_mean)\n",
        "#========================\n",
        "prec_mean=statistics.mean(precision_list)\n",
        "prec_max=max(precision_list)\n",
        "prec_min=min(precision_list)\n",
        "precmeans.append(prec_mean)\n",
        "precmins.append(prec_mean - prec_min)\n",
        "precmaxs.append(prec_max - prec_mean)\n",
        "#==========================\n",
        "microprec_mean=statistics.mean(microprecision_list)\n",
        "microprec_max=max(microprecision_list)\n",
        "microprec_min=min(microprecision_list)\n",
        "microprecmeans.append(microprec_mean)\n",
        "microprecmins.append(microprec_mean - microprec_min)\n",
        "microprecmaxs.append(microprec_max - microprec_mean)\n",
        "#===========================\n",
        "microf1_mean=statistics.mean(microf1_list)\n",
        "microf1_max=max(microf1_list)\n",
        "microf1_min=min(microf1_list)\n",
        "microf1means.append(microf1_mean)\n",
        "microf1mins.append(microf1_mean - microf1_min)\n",
        "microf1maxs.append(microf1_max - microf1_mean)\n",
        "#=============================\n",
        "print('Image_size and batch_size')\n",
        "print(IMAGE_SIZE,batch_size)\n",
        "print('Minimum Accuracy')\n",
        "print(mins)\n",
        "print('Maximum Accuracy')\n",
        "print(maxs)\n",
        "print('Average Accuracy')\n",
        "print(means)\n",
        "#=============\n",
        "print('Minimum macro precision')\n",
        "print(precmins)\n",
        "print('Maximum macro precision')\n",
        "print(precmaxs)\n",
        "print('Average macro precision')\n",
        "print(precmeans)\n",
        "#===============\n",
        "print('Minimum macro F1')\n",
        "print(f1mins)\n",
        "print('Maximum macro F1')\n",
        "print(f1maxs)\n",
        "print('Average macro F1')\n",
        "print(f1means)\n",
        "#===============\n",
        "print('Minimum micro precision')\n",
        "print(microprecmins)\n",
        "print('Maximum micro precision')\n",
        "print(microprecmaxs)\n",
        "print('Average micro precision')\n",
        "print(microprecmeans)\n",
        "#===============\n",
        "print('Minimum micro F1')\n",
        "print(microf1mins)\n",
        "print('Maximum micro F1')\n",
        "print(microf1maxs)\n",
        "print('Average micro F1')\n",
        "print(microf1means)"
      ],
      "execution_count": null,
      "outputs": [
        {
          "output_type": "stream",
          "text": [
            "Results for fold 1\n",
            "Found 1968 images belonging to 3 classes.\n",
            "Found 493 images belonging to 3 classes.\n",
            "Epoch 1/130\n",
            "61/61 [==============================] - 15s 241ms/step - loss: 0.0682 - accuracy: 0.9781 - val_loss: 0.0644 - val_accuracy: 0.9833\n",
            "Epoch 2/130\n",
            "61/61 [==============================] - 14s 238ms/step - loss: 0.0591 - accuracy: 0.9854 - val_loss: 0.0723 - val_accuracy: 0.9854\n",
            "Epoch 3/130\n",
            "61/61 [==============================] - 14s 238ms/step - loss: 0.0603 - accuracy: 0.9873 - val_loss: 0.0783 - val_accuracy: 0.9812\n",
            "Epoch 4/130\n",
            "61/61 [==============================] - 15s 237ms/step - loss: 0.0643 - accuracy: 0.9843 - val_loss: 0.0584 - val_accuracy: 0.9854\n",
            "Epoch 5/130\n",
            "61/61 [==============================] - 14s 236ms/step - loss: 0.0453 - accuracy: 0.9915 - val_loss: 0.0540 - val_accuracy: 0.9896\n",
            "Epoch 6/130\n",
            "61/61 [==============================] - 15s 239ms/step - loss: 0.0598 - accuracy: 0.9790 - val_loss: 0.0541 - val_accuracy: 0.9937\n",
            "Epoch 7/130\n",
            "61/61 [==============================] - 15s 241ms/step - loss: 0.0675 - accuracy: 0.9809 - val_loss: 0.0514 - val_accuracy: 0.9917\n",
            "Epoch 8/130\n",
            "61/61 [==============================] - 15s 238ms/step - loss: 0.0542 - accuracy: 0.9868 - val_loss: 0.0560 - val_accuracy: 0.9875\n",
            "Epoch 9/130\n",
            "61/61 [==============================] - 14s 236ms/step - loss: 0.0539 - accuracy: 0.9875 - val_loss: 0.0591 - val_accuracy: 0.9875\n",
            "Epoch 10/130\n",
            "61/61 [==============================] - 15s 241ms/step - loss: 0.0704 - accuracy: 0.9780 - val_loss: 0.0911 - val_accuracy: 0.9729\n",
            "Epoch 11/130\n",
            "61/61 [==============================] - 15s 239ms/step - loss: 0.0570 - accuracy: 0.9848 - val_loss: 0.0537 - val_accuracy: 0.9896\n",
            "Epoch 12/130\n",
            "61/61 [==============================] - 15s 240ms/step - loss: 0.0514 - accuracy: 0.9875 - val_loss: 0.0557 - val_accuracy: 0.9875\n",
            "Epoch 13/130\n",
            "61/61 [==============================] - 15s 240ms/step - loss: 0.0483 - accuracy: 0.9899 - val_loss: 0.0562 - val_accuracy: 0.9854\n",
            "16/16 [==============================] - 2s 106ms/step\n",
            "Results for fold 2\n",
            "Found 1969 images belonging to 3 classes.\n",
            "Found 492 images belonging to 3 classes.\n",
            "Epoch 1/130\n",
            "61/61 [==============================] - 16s 245ms/step - loss: 0.0559 - accuracy: 0.9869 - val_loss: 0.0481 - val_accuracy: 0.9917\n",
            "Epoch 2/130\n",
            "61/61 [==============================] - 15s 241ms/step - loss: 0.0594 - accuracy: 0.9812 - val_loss: 0.0613 - val_accuracy: 0.9812\n",
            "Epoch 3/130\n",
            "61/61 [==============================] - 15s 240ms/step - loss: 0.0665 - accuracy: 0.9825 - val_loss: 0.0553 - val_accuracy: 0.9854\n",
            "Epoch 4/130\n",
            "61/61 [==============================] - 15s 240ms/step - loss: 0.0607 - accuracy: 0.9840 - val_loss: 0.0549 - val_accuracy: 0.9833\n",
            "Epoch 5/130\n",
            "61/61 [==============================] - 15s 240ms/step - loss: 0.0586 - accuracy: 0.9869 - val_loss: 0.0588 - val_accuracy: 0.9792\n",
            "Epoch 6/130\n",
            "61/61 [==============================] - 15s 243ms/step - loss: 0.0476 - accuracy: 0.9885 - val_loss: 0.0523 - val_accuracy: 0.9875\n",
            "Epoch 7/130\n",
            "61/61 [==============================] - 14s 237ms/step - loss: 0.0534 - accuracy: 0.9828 - val_loss: 0.0580 - val_accuracy: 0.9833\n",
            "16/16 [==============================] - 2s 99ms/step\n",
            "Results for fold 3\n",
            "Found 1969 images belonging to 3 classes.\n",
            "Found 492 images belonging to 3 classes.\n",
            "Epoch 1/130\n",
            "61/61 [==============================] - 16s 246ms/step - loss: 0.0596 - accuracy: 0.9864 - val_loss: 0.0547 - val_accuracy: 0.9875\n",
            "Epoch 2/130\n",
            "61/61 [==============================] - 15s 242ms/step - loss: 0.0582 - accuracy: 0.9853 - val_loss: 0.0419 - val_accuracy: 0.9917\n",
            "Epoch 3/130\n",
            "61/61 [==============================] - 15s 240ms/step - loss: 0.0587 - accuracy: 0.9854 - val_loss: 0.0368 - val_accuracy: 0.9979\n",
            "Epoch 4/130\n",
            "61/61 [==============================] - 15s 238ms/step - loss: 0.0556 - accuracy: 0.9864 - val_loss: 0.0334 - val_accuracy: 0.9833\n",
            "Epoch 5/130\n",
            "61/61 [==============================] - 15s 240ms/step - loss: 0.0526 - accuracy: 0.9843 - val_loss: 0.0324 - val_accuracy: 0.9958\n",
            "Epoch 6/130\n",
            "61/61 [==============================] - 15s 240ms/step - loss: 0.0576 - accuracy: 0.9845 - val_loss: 0.0310 - val_accuracy: 0.9937\n",
            "Epoch 7/130\n",
            "61/61 [==============================] - 15s 244ms/step - loss: 0.0516 - accuracy: 0.9882 - val_loss: 0.0325 - val_accuracy: 0.9937\n",
            "Epoch 8/130\n",
            "61/61 [==============================] - 14s 236ms/step - loss: 0.0527 - accuracy: 0.9831 - val_loss: 0.0362 - val_accuracy: 0.9937\n",
            "Epoch 9/130\n",
            "61/61 [==============================] - 14s 238ms/step - loss: 0.0694 - accuracy: 0.9766 - val_loss: 0.0296 - val_accuracy: 0.9958\n",
            "Epoch 10/130\n",
            "61/61 [==============================] - 15s 242ms/step - loss: 0.0589 - accuracy: 0.9820 - val_loss: 0.0452 - val_accuracy: 0.9917\n",
            "Epoch 11/130\n",
            "61/61 [==============================] - 15s 239ms/step - loss: 0.0482 - accuracy: 0.9888 - val_loss: 0.0307 - val_accuracy: 0.9979\n",
            "Epoch 12/130\n",
            "61/61 [==============================] - 15s 239ms/step - loss: 0.0566 - accuracy: 0.9838 - val_loss: 0.0300 - val_accuracy: 0.9958\n",
            "Epoch 13/130\n",
            "61/61 [==============================] - 14s 237ms/step - loss: 0.0455 - accuracy: 0.9893 - val_loss: 0.0445 - val_accuracy: 0.9896\n",
            "Epoch 14/130\n",
            "61/61 [==============================] - 14s 235ms/step - loss: 0.0486 - accuracy: 0.9843 - val_loss: 0.0341 - val_accuracy: 0.9979\n",
            "Epoch 15/130\n",
            "61/61 [==============================] - 15s 238ms/step - loss: 0.0493 - accuracy: 0.9839 - val_loss: 0.0328 - val_accuracy: 1.0000\n",
            "16/16 [==============================] - 2s 101ms/step\n",
            "Results for fold 4\n",
            "Found 1969 images belonging to 3 classes.\n",
            "Found 492 images belonging to 3 classes.\n",
            "Epoch 1/130\n",
            "61/61 [==============================] - 16s 245ms/step - loss: 0.0483 - accuracy: 0.9862 - val_loss: 0.0284 - val_accuracy: 0.9979\n",
            "Epoch 2/130\n",
            "61/61 [==============================] - 14s 237ms/step - loss: 0.0509 - accuracy: 0.9807 - val_loss: 0.0274 - val_accuracy: 0.9937\n",
            "Epoch 3/130\n",
            "61/61 [==============================] - 15s 241ms/step - loss: 0.0468 - accuracy: 0.9888 - val_loss: 0.0292 - val_accuracy: 0.9979\n",
            "Epoch 4/130\n",
            "61/61 [==============================] - 15s 243ms/step - loss: 0.0459 - accuracy: 0.9871 - val_loss: 0.0296 - val_accuracy: 0.9979\n",
            "Epoch 5/130\n",
            "61/61 [==============================] - 15s 241ms/step - loss: 0.0425 - accuracy: 0.9893 - val_loss: 0.0343 - val_accuracy: 0.9937\n",
            "Epoch 6/130\n",
            "61/61 [==============================] - 15s 241ms/step - loss: 0.0421 - accuracy: 0.9867 - val_loss: 0.0258 - val_accuracy: 0.9979\n",
            "Epoch 7/130\n",
            "61/61 [==============================] - 14s 237ms/step - loss: 0.0472 - accuracy: 0.9876 - val_loss: 0.0255 - val_accuracy: 0.9958\n",
            "Epoch 8/130\n",
            "61/61 [==============================] - 15s 240ms/step - loss: 0.0805 - accuracy: 0.9763 - val_loss: 0.0272 - val_accuracy: 0.9979\n",
            "Epoch 9/130\n",
            "61/61 [==============================] - 14s 235ms/step - loss: 0.0525 - accuracy: 0.9871 - val_loss: 0.0257 - val_accuracy: 0.9979\n",
            "Epoch 10/130\n",
            "61/61 [==============================] - 15s 239ms/step - loss: 0.0538 - accuracy: 0.9845 - val_loss: 0.0263 - val_accuracy: 0.9958\n",
            "Epoch 11/130\n",
            "61/61 [==============================] - 14s 236ms/step - loss: 0.0443 - accuracy: 0.9831 - val_loss: 0.0255 - val_accuracy: 0.9979\n",
            "Epoch 12/130\n",
            "61/61 [==============================] - 15s 239ms/step - loss: 0.0427 - accuracy: 0.9887 - val_loss: 0.0278 - val_accuracy: 0.9979\n",
            "16/16 [==============================] - 2s 110ms/step\n",
            "Results for fold 5\n",
            "Found 1969 images belonging to 3 classes.\n",
            "Found 492 images belonging to 3 classes.\n",
            "Epoch 1/130\n",
            "61/61 [==============================] - 15s 244ms/step - loss: 0.0405 - accuracy: 0.9910 - val_loss: 0.0338 - val_accuracy: 0.9979\n",
            "Epoch 2/130\n",
            "61/61 [==============================] - 15s 241ms/step - loss: 0.0594 - accuracy: 0.9838 - val_loss: 0.0347 - val_accuracy: 0.9979\n",
            "Epoch 3/130\n",
            "61/61 [==============================] - 15s 244ms/step - loss: 0.0503 - accuracy: 0.9866 - val_loss: 0.0335 - val_accuracy: 0.9937\n",
            "Epoch 4/130\n",
            "61/61 [==============================] - 15s 240ms/step - loss: 0.0466 - accuracy: 0.9870 - val_loss: 0.0286 - val_accuracy: 0.9917\n",
            "Epoch 5/130\n",
            "61/61 [==============================] - 15s 242ms/step - loss: 0.0452 - accuracy: 0.9883 - val_loss: 0.0361 - val_accuracy: 0.9958\n",
            "Epoch 6/130\n",
            "61/61 [==============================] - 15s 243ms/step - loss: 0.0385 - accuracy: 0.9895 - val_loss: 0.0366 - val_accuracy: 0.9917\n",
            "Epoch 7/130\n",
            "61/61 [==============================] - 15s 238ms/step - loss: 0.0381 - accuracy: 0.9909 - val_loss: 0.0329 - val_accuracy: 0.9958\n",
            "Epoch 8/130\n",
            "61/61 [==============================] - 15s 240ms/step - loss: 0.0495 - accuracy: 0.9832 - val_loss: 0.0554 - val_accuracy: 0.9792\n",
            "Epoch 9/130\n",
            "61/61 [==============================] - 14s 237ms/step - loss: 0.0388 - accuracy: 0.9930 - val_loss: 0.0310 - val_accuracy: 0.9917\n",
            "Epoch 10/130\n",
            "61/61 [==============================] - 14s 237ms/step - loss: 0.0443 - accuracy: 0.9847 - val_loss: 0.0301 - val_accuracy: 0.9937\n",
            "16/16 [==============================] - 2s 100ms/step\n",
            "Image_size and batch_size\n",
            "[100, 100] 32\n",
            "Minimum Accuracy\n",
            "[0.0158107818400699]\n",
            "Maximum Accuracy\n",
            "[0.010558386516928087]\n",
            "Average Accuracy\n",
            "[0.9894416134830719]\n",
            "Minimum macro precision\n",
            "[0.01695851082400579]\n",
            "Maximum macro precision\n",
            "[0.011402268824830086]\n",
            "Average macro precision\n",
            "[0.9885977311751699]\n",
            "Minimum macro F1\n",
            "[0.018891275379742334]\n",
            "Maximum macro F1\n",
            "[0.013507678712854632]\n",
            "Average macro F1\n",
            "[0.9864923212871454]\n",
            "Minimum micro precision\n",
            "[0.0158107818400699]\n",
            "Maximum micro precision\n",
            "[0.010558386516928087]\n",
            "Average micro precision\n",
            "[0.9894416134830719]\n",
            "Minimum micro F1\n",
            "[0.0158107818400699]\n",
            "Maximum micro F1\n",
            "[0.010558386516928087]\n",
            "Average micro F1\n",
            "[0.9894416134830719]\n"
          ],
          "name": "stdout"
        }
      ]
    },
    {
      "cell_type": "code",
      "metadata": {
        "id": "xWHtPk1bmf-s"
      },
      "source": [
        "####retrain on the entire dataset\n",
        "\n",
        "\n",
        "entire_datasetNN =Model(inputs=model.input, outputs=model.layers[-4].output) # remember that the model chunk is not trainable so its like a constant here\n",
        "for layer in entire_datasetNN.layers:\n",
        "    layer.trainable = False\n",
        "# layers creation - Here more can be added\n",
        "xlayers = layers.Flatten()(entire_datasetNN.output)\n",
        "xlayers = layers.Dense(1000, activation='relu')(xlayers)\n",
        "Alldataprediction = layers.Dense(3, activation='softmax')(xlayers)\n",
        "# creating a model object\n",
        "\n",
        "alldatamodel = Model(inputs=entire_datasetNN.input, outputs=Alldataprediction)\n",
        "sgd = optimizers.SGD(lr=0.01, decay=1e-6, momentum=0.9, nesterov=True)\n",
        "alldatamodel.compile(\n",
        "  loss='categorical_crossentropy',\n",
        "\n",
        "  optimizer='sgd',\n",
        "\n",
        "  metrics=['accuracy'] \n",
        "\n",
        ")\n"
      ],
      "execution_count": null,
      "outputs": []
    },
    {
      "cell_type": "code",
      "metadata": {
        "colab": {
          "base_uri": "https://localhost:8080/"
        },
        "id": "d1wnA83gt6xt",
        "outputId": "b004b519-3a53-4443-a3ad-5e61c1008aad"
      },
      "source": [
        "Alldatatrain_path= '/content/gdrive/MyDrive/Alldata'\n",
        "Alldatavalidation_path= '/content/gdrive/MyDrive/Alldata'\n",
        "callback = tf.keras.callbacks.EarlyStopping(monitor='val_loss',min_delta=.001,patience=6,mode='auto')\n",
        "alldatatrain_datagen = ImageDataGenerator(rotation_range=20, horizontal_flip=True,   vertical_flip=True,  preprocessing_function=preprocess_input)\n",
        "#,  width_shift_range=0.2, height_shift_range=0.2,brightness_range=[0.4,1.5],zoom_range=0.3\n",
        "#\n",
        "alldatavalidation_datagen = ImageDataGenerator( preprocessing_function=preprocess_input)\n",
        "#Start ImageClassification Model\n",
        "alldatatrain_generator = alldatatrain_datagen.flow_from_directory(\n",
        "            Alldatatrain_path,\n",
        "            shuffle= True,\n",
        "            target_size=IMAGE_SIZE,\n",
        "            batch_size=32)\n",
        "alldatavalidation_generator = alldatavalidation_datagen.flow_from_directory(\n",
        "            Alldatavalidation_path,\n",
        "            target_size=IMAGE_SIZE,\n",
        "            batch_size=32,\n",
        "            shuffle=False)  \n",
        "       \n",
        "history=alldatamodel.fit(alldatatrain_generator, \n",
        "                        epochs=130,                       \n",
        "                        validation_data = alldatavalidation_generator,\n",
        "                        steps_per_epoch=int(2461 // batch_size),\n",
        "                        validation_steps=int(2461 // batch_size),    \n",
        "                        callbacks=[callback])"
      ],
      "execution_count": null,
      "outputs": [
        {
          "output_type": "stream",
          "text": [
            "Found 2461 images belonging to 3 classes.\n",
            "Found 2461 images belonging to 3 classes.\n",
            "Epoch 1/130\n",
            "76/76 [==============================] - 28s 358ms/step - loss: 0.7306 - accuracy: 0.7133 - val_loss: 0.4262 - val_accuracy: 0.8688\n",
            "Epoch 2/130\n",
            "76/76 [==============================] - 27s 351ms/step - loss: 0.4474 - accuracy: 0.8518 - val_loss: 0.3341 - val_accuracy: 0.9017\n",
            "Epoch 3/130\n",
            "76/76 [==============================] - 27s 351ms/step - loss: 0.3288 - accuracy: 0.8902 - val_loss: 0.3062 - val_accuracy: 0.9116\n",
            "Epoch 4/130\n",
            "76/76 [==============================] - 27s 353ms/step - loss: 0.3114 - accuracy: 0.9039 - val_loss: 0.2508 - val_accuracy: 0.9285\n",
            "Epoch 5/130\n",
            "76/76 [==============================] - 27s 350ms/step - loss: 0.2634 - accuracy: 0.9178 - val_loss: 0.2300 - val_accuracy: 0.9264\n",
            "Epoch 6/130\n",
            "76/76 [==============================] - 26s 349ms/step - loss: 0.2296 - accuracy: 0.9274 - val_loss: 0.2198 - val_accuracy: 0.9276\n",
            "Epoch 7/130\n",
            "76/76 [==============================] - 27s 353ms/step - loss: 0.2410 - accuracy: 0.9175 - val_loss: 0.1947 - val_accuracy: 0.9354\n",
            "Epoch 8/130\n",
            "76/76 [==============================] - 26s 349ms/step - loss: 0.1931 - accuracy: 0.9343 - val_loss: 0.1786 - val_accuracy: 0.9441\n",
            "Epoch 9/130\n",
            "76/76 [==============================] - 27s 352ms/step - loss: 0.1934 - accuracy: 0.9405 - val_loss: 0.2103 - val_accuracy: 0.9330\n",
            "Epoch 10/130\n",
            "76/76 [==============================] - 27s 353ms/step - loss: 0.1911 - accuracy: 0.9399 - val_loss: 0.1642 - val_accuracy: 0.9527\n",
            "Epoch 11/130\n",
            "76/76 [==============================] - 27s 353ms/step - loss: 0.1582 - accuracy: 0.9536 - val_loss: 0.1576 - val_accuracy: 0.9589\n",
            "Epoch 12/130\n",
            "76/76 [==============================] - 26s 348ms/step - loss: 0.1614 - accuracy: 0.9534 - val_loss: 0.1511 - val_accuracy: 0.9539\n",
            "Epoch 13/130\n",
            "76/76 [==============================] - 27s 351ms/step - loss: 0.1712 - accuracy: 0.9444 - val_loss: 0.1682 - val_accuracy: 0.9474\n",
            "Epoch 14/130\n",
            "76/76 [==============================] - 27s 351ms/step - loss: 0.1681 - accuracy: 0.9425 - val_loss: 0.1387 - val_accuracy: 0.9556\n",
            "Epoch 15/130\n",
            "76/76 [==============================] - 27s 351ms/step - loss: 0.1472 - accuracy: 0.9543 - val_loss: 0.1296 - val_accuracy: 0.9581\n",
            "Epoch 16/130\n",
            "76/76 [==============================] - 27s 351ms/step - loss: 0.1533 - accuracy: 0.9503 - val_loss: 0.1327 - val_accuracy: 0.9601\n",
            "Epoch 17/130\n",
            "76/76 [==============================] - 26s 346ms/step - loss: 0.1604 - accuracy: 0.9503 - val_loss: 0.1279 - val_accuracy: 0.9663\n",
            "Epoch 18/130\n",
            "76/76 [==============================] - 26s 349ms/step - loss: 0.1522 - accuracy: 0.9510 - val_loss: 0.1244 - val_accuracy: 0.9622\n",
            "Epoch 19/130\n",
            "76/76 [==============================] - 26s 350ms/step - loss: 0.1373 - accuracy: 0.9572 - val_loss: 0.1804 - val_accuracy: 0.9412\n",
            "Epoch 20/130\n",
            "76/76 [==============================] - 26s 349ms/step - loss: 0.1350 - accuracy: 0.9544 - val_loss: 0.1237 - val_accuracy: 0.9605\n",
            "Epoch 21/130\n",
            "76/76 [==============================] - 27s 351ms/step - loss: 0.1252 - accuracy: 0.9601 - val_loss: 0.1107 - val_accuracy: 0.9692\n",
            "Epoch 22/130\n",
            "76/76 [==============================] - 26s 349ms/step - loss: 0.1127 - accuracy: 0.9607 - val_loss: 0.1080 - val_accuracy: 0.9692\n",
            "Epoch 23/130\n",
            "76/76 [==============================] - 26s 350ms/step - loss: 0.1142 - accuracy: 0.9648 - val_loss: 0.1035 - val_accuracy: 0.9663\n",
            "Epoch 24/130\n",
            "76/76 [==============================] - 27s 352ms/step - loss: 0.1088 - accuracy: 0.9669 - val_loss: 0.1100 - val_accuracy: 0.9708\n",
            "Epoch 25/130\n",
            "76/76 [==============================] - 26s 348ms/step - loss: 0.0995 - accuracy: 0.9668 - val_loss: 0.1004 - val_accuracy: 0.9671\n",
            "Epoch 26/130\n",
            "76/76 [==============================] - 26s 345ms/step - loss: 0.1083 - accuracy: 0.9682 - val_loss: 0.0956 - val_accuracy: 0.9675\n",
            "Epoch 27/130\n",
            "76/76 [==============================] - 26s 342ms/step - loss: 0.1032 - accuracy: 0.9648 - val_loss: 0.0933 - val_accuracy: 0.9741\n",
            "Epoch 28/130\n",
            "76/76 [==============================] - 26s 339ms/step - loss: 0.1010 - accuracy: 0.9691 - val_loss: 0.0899 - val_accuracy: 0.9712\n",
            "Epoch 29/130\n",
            "76/76 [==============================] - 26s 340ms/step - loss: 0.1102 - accuracy: 0.9650 - val_loss: 0.0999 - val_accuracy: 0.9618\n",
            "Epoch 30/130\n",
            "76/76 [==============================] - 26s 345ms/step - loss: 0.1009 - accuracy: 0.9685 - val_loss: 0.0871 - val_accuracy: 0.9774\n",
            "Epoch 31/130\n",
            "76/76 [==============================] - 26s 340ms/step - loss: 0.1321 - accuracy: 0.9527 - val_loss: 0.0949 - val_accuracy: 0.9642\n",
            "Epoch 32/130\n",
            "76/76 [==============================] - 26s 339ms/step - loss: 0.0953 - accuracy: 0.9656 - val_loss: 0.0843 - val_accuracy: 0.9762\n",
            "Epoch 33/130\n",
            "76/76 [==============================] - 26s 340ms/step - loss: 0.1035 - accuracy: 0.9693 - val_loss: 0.0822 - val_accuracy: 0.9807\n",
            "Epoch 34/130\n",
            "76/76 [==============================] - 26s 342ms/step - loss: 0.1099 - accuracy: 0.9662 - val_loss: 0.0791 - val_accuracy: 0.9786\n",
            "Epoch 35/130\n",
            "76/76 [==============================] - 26s 340ms/step - loss: 0.0912 - accuracy: 0.9753 - val_loss: 0.0787 - val_accuracy: 0.9770\n",
            "Epoch 36/130\n",
            "76/76 [==============================] - 26s 344ms/step - loss: 0.0987 - accuracy: 0.9697 - val_loss: 0.1098 - val_accuracy: 0.9692\n",
            "Epoch 37/130\n",
            "76/76 [==============================] - 26s 340ms/step - loss: 0.0877 - accuracy: 0.9741 - val_loss: 0.0823 - val_accuracy: 0.9815\n",
            "Epoch 38/130\n",
            "76/76 [==============================] - 26s 343ms/step - loss: 0.0938 - accuracy: 0.9723 - val_loss: 0.0754 - val_accuracy: 0.9815\n",
            "Epoch 39/130\n",
            "76/76 [==============================] - 26s 347ms/step - loss: 0.0894 - accuracy: 0.9741 - val_loss: 0.0770 - val_accuracy: 0.9831\n",
            "Epoch 40/130\n",
            "76/76 [==============================] - 26s 343ms/step - loss: 0.0715 - accuracy: 0.9851 - val_loss: 0.0690 - val_accuracy: 0.9815\n",
            "Epoch 41/130\n",
            "76/76 [==============================] - 26s 344ms/step - loss: 0.0754 - accuracy: 0.9783 - val_loss: 0.0785 - val_accuracy: 0.9823\n",
            "Epoch 42/130\n",
            "76/76 [==============================] - 26s 343ms/step - loss: 0.0846 - accuracy: 0.9795 - val_loss: 0.0699 - val_accuracy: 0.9823\n",
            "Epoch 43/130\n",
            "76/76 [==============================] - 26s 340ms/step - loss: 0.0718 - accuracy: 0.9782 - val_loss: 0.0753 - val_accuracy: 0.9749\n",
            "Epoch 44/130\n",
            "76/76 [==============================] - 26s 340ms/step - loss: 0.0816 - accuracy: 0.9763 - val_loss: 0.0644 - val_accuracy: 0.9794\n",
            "Epoch 45/130\n",
            "76/76 [==============================] - 26s 340ms/step - loss: 0.0733 - accuracy: 0.9800 - val_loss: 0.0666 - val_accuracy: 0.9836\n",
            "Epoch 46/130\n",
            "76/76 [==============================] - 26s 343ms/step - loss: 0.0779 - accuracy: 0.9761 - val_loss: 0.0636 - val_accuracy: 0.9848\n",
            "Epoch 47/130\n",
            "76/76 [==============================] - 26s 339ms/step - loss: 0.0702 - accuracy: 0.9805 - val_loss: 0.0699 - val_accuracy: 0.9749\n",
            "Epoch 48/130\n",
            "76/76 [==============================] - 26s 347ms/step - loss: 0.0676 - accuracy: 0.9831 - val_loss: 0.0795 - val_accuracy: 0.9733\n",
            "Epoch 49/130\n",
            "76/76 [==============================] - 26s 341ms/step - loss: 0.0834 - accuracy: 0.9752 - val_loss: 0.0583 - val_accuracy: 0.9819\n",
            "Epoch 50/130\n",
            "76/76 [==============================] - 26s 342ms/step - loss: 0.0767 - accuracy: 0.9793 - val_loss: 0.0593 - val_accuracy: 0.9848\n",
            "Epoch 51/130\n",
            "76/76 [==============================] - 26s 339ms/step - loss: 0.0748 - accuracy: 0.9783 - val_loss: 0.0568 - val_accuracy: 0.9864\n",
            "Epoch 52/130\n",
            "76/76 [==============================] - 26s 343ms/step - loss: 0.0723 - accuracy: 0.9789 - val_loss: 0.0616 - val_accuracy: 0.9811\n",
            "Epoch 53/130\n",
            "76/76 [==============================] - 26s 346ms/step - loss: 0.0843 - accuracy: 0.9755 - val_loss: 0.0596 - val_accuracy: 0.9856\n",
            "Epoch 54/130\n",
            "76/76 [==============================] - 25s 337ms/step - loss: 0.0786 - accuracy: 0.9784 - val_loss: 0.0579 - val_accuracy: 0.9819\n",
            "Epoch 55/130\n",
            "76/76 [==============================] - 26s 341ms/step - loss: 0.0635 - accuracy: 0.9832 - val_loss: 0.0561 - val_accuracy: 0.9827\n",
            "Epoch 56/130\n",
            "76/76 [==============================] - 26s 342ms/step - loss: 0.0669 - accuracy: 0.9822 - val_loss: 0.0647 - val_accuracy: 0.9848\n",
            "Epoch 57/130\n",
            "76/76 [==============================] - 26s 341ms/step - loss: 0.0666 - accuracy: 0.9853 - val_loss: 0.0523 - val_accuracy: 0.9823\n",
            "Epoch 58/130\n",
            "76/76 [==============================] - 26s 339ms/step - loss: 0.0625 - accuracy: 0.9831 - val_loss: 0.0625 - val_accuracy: 0.9860\n",
            "Epoch 59/130\n",
            "76/76 [==============================] - 26s 341ms/step - loss: 0.0640 - accuracy: 0.9845 - val_loss: 0.0522 - val_accuracy: 0.9844\n",
            "Epoch 60/130\n",
            "76/76 [==============================] - 26s 346ms/step - loss: 0.0589 - accuracy: 0.9849 - val_loss: 0.0534 - val_accuracy: 0.9881\n",
            "Epoch 61/130\n",
            "76/76 [==============================] - 26s 338ms/step - loss: 0.0719 - accuracy: 0.9800 - val_loss: 0.0543 - val_accuracy: 0.9860\n",
            "Epoch 62/130\n",
            "76/76 [==============================] - 26s 342ms/step - loss: 0.0535 - accuracy: 0.9849 - val_loss: 0.0657 - val_accuracy: 0.9774\n",
            "Epoch 63/130\n",
            "76/76 [==============================] - 26s 343ms/step - loss: 0.0550 - accuracy: 0.9829 - val_loss: 0.0667 - val_accuracy: 0.9840\n"
          ],
          "name": "stdout"
        }
      ]
    },
    {
      "cell_type": "code",
      "metadata": {
        "colab": {
          "base_uri": "https://localhost:8080/",
          "height": 299
        },
        "id": "CvcszPlD8Q8c",
        "outputId": "5e82cd99-5ba6-4895-fd3f-509d3b11fd76"
      },
      "source": [
        "###save the model \n",
        "###plot the graphs\n",
        "\n",
        "entire_datasetNN.save('felineFreezingAlldata.h5')\n",
        "import matplotlib.pyplot as plt\n",
        "acc = history.history['accuracy']\n",
        "val_acc = history.history['val_accuracy']\n",
        "loss = history.history['loss']\n",
        "val_loss = history.history['val_loss']\n",
        "\n",
        "epochs = range(len(acc))\n",
        "\n",
        "plt.plot(epochs, acc, 'r', label='Training accuracy')\n",
        "plt.plot(epochs, loss, 'b', label='Training loss')\n",
        "plt.title('Training accuracy and loss')\n",
        "plt.legend(loc=0)\n",
        "plt.figure()\n",
        "\n",
        "\n",
        "plt.show()"
      ],
      "execution_count": null,
      "outputs": [
        {
          "output_type": "display_data",
          "data": {
            "image/png": "[encoded data removed]",
            "text/plain": [
              "<Figure size 432x288 with 1 Axes>"
            ]
          },
          "metadata": {
            "tags": [],
            "needs_background": "light"
          }
        },
        {
          "output_type": "display_data",
          "data": {
            "text/plain": [
              "<Figure size 432x288 with 0 Axes>"
            ]
          },
          "metadata": {
            "tags": []
          }
        }
      ]
    },
    {
      "cell_type": "code",
      "metadata": {
        "colab": {
          "base_uri": "https://localhost:8080/",
          "height": 299
        },
        "id": "1jP-cURr-FOt",
        "outputId": "7ce671f8-4979-47f0-aa19-dd504d2b3459"
      },
      "source": [
        "plt.plot(epochs, val_acc, 'r', label='Validation accuracy')\n",
        "plt.plot(epochs, val_loss, 'b', label='Validation loss')\n",
        "plt.title('Validation accuracy and loss')\n",
        "plt.legend(loc=0)\n",
        "plt.figure()\n",
        "\n",
        "\n",
        "plt.show()"
      ],
      "execution_count": null,
      "outputs": [
        {
          "output_type": "display_data",
          "data": {
            "image/png": "[encoded data removed]",
            "text/plain": [
              "<Figure size 432x288 with 1 Axes>"
            ]
          },
          "metadata": {
            "tags": [],
            "needs_background": "light"
          }
        },
        {
          "output_type": "display_data",
          "data": {
            "text/plain": [
              "<Figure size 432x288 with 0 Axes>"
            ]
          },
          "metadata": {
            "tags": []
          }
        }
      ]
    },
    {
      "cell_type": "code",
      "metadata": {
        "colab": {
          "base_uri": "https://localhost:8080/",
          "height": 299
        },
        "id": "ca8X0xCx-Viz",
        "outputId": "f5cbed9c-f0b0-4e88-e80f-0868838864d1"
      },
      "source": [
        "plt.plot(epochs, acc, 'r', label='Training accuracy')\n",
        "plt.plot(epochs, val_acc, 'b', label='Validation accuracy')\n",
        "plt.title('Training and validation accuracy')\n",
        "plt.legend(loc=0)\n",
        "plt.figure()\n",
        "\n",
        "\n",
        "plt.show()"
      ],
      "execution_count": null,
      "outputs": [
        {
          "output_type": "display_data",
          "data": {
            "image/png": "[encoded data removed]",
            "text/plain": [
              "<Figure size 432x288 with 1 Axes>"
            ]
          },
          "metadata": {
            "tags": [],
            "needs_background": "light"
          }
        },
        {
          "output_type": "display_data",
          "data": {
            "text/plain": [
              "<Figure size 432x288 with 0 Axes>"
            ]
          },
          "metadata": {
            "tags": []
          }
        }
      ]
    },
    {
      "cell_type": "code",
      "metadata": {
        "colab": {
          "base_uri": "https://localhost:8080/",
          "height": 299
        },
        "id": "gkP8O90q_KUw",
        "outputId": "ebf9f5ca-9451-4af5-e262-b3678662890a"
      },
      "source": [
        "plt.plot(epochs, loss, 'r', label='Training loss')\n",
        "plt.plot(epochs, val_loss, 'b', label='Validation loss')\n",
        "plt.title('Training and validation accuracy')\n",
        "plt.legend(loc=0)\n",
        "plt.figure()\n",
        "\n",
        "\n",
        "plt.show()"
      ],
      "execution_count": null,
      "outputs": [
        {
          "output_type": "display_data",
          "data": {
            "image/png": "[encoded data removed]",
            "text/plain": [
              "<Figure size 432x288 with 1 Axes>"
            ]
          },
          "metadata": {
            "tags": [],
            "needs_background": "light"
          }
        },
        {
          "output_type": "display_data",
          "data": {
            "text/plain": [
              "<Figure size 432x288 with 0 Axes>"
            ]
          },
          "metadata": {
            "tags": []
          }
        }
      ]
    },
    {
      "cell_type": "code",
      "metadata": {
        "colab": {
          "base_uri": "https://localhost:8080/"
        },
        "id": "cpGRH4f4_fpd",
        "outputId": "004ba397-1233-408d-cb78-b626050db6fe"
      },
      "source": [
        "###get all the metrics \n",
        "from sklearn.metrics import accuracy_score, f1_score, precision_score, confusion_matrix\n",
        "alldatapredictions = alldatamodel.predict(alldatavalidation_generator, verbose=1)\n",
        "alldatayPredictions = np.argmax(alldatapredictions, axis=1)\n",
        "alldatatrue_classes = alldatavalidation_generator.classes"
      ],
      "execution_count": null,
      "outputs": [
        {
          "output_type": "stream",
          "text": [
            "77/77 [==============================] - 11s 137ms/step\n"
          ],
          "name": "stdout"
        }
      ]
    },
    {
      "cell_type": "code",
      "metadata": {
        "colab": {
          "base_uri": "https://localhost:8080/"
        },
        "id": "DH7JGBkRJZHQ",
        "outputId": "f0b10d3e-328b-4f43-847b-5baef4e1a1b4"
      },
      "source": [
        "alldataaccuracy= accuracy_score(alldatatrue_classes, alldatayPredictions)\n",
        "Macroalldataf1=f1_score(alldatatrue_classes, alldatayPredictions,average='macro')\n",
        "Microalldataf1=f1_score(alldatatrue_classes, alldatayPredictions,average='micro')\n",
        "Macroalldataprecision=precision_score(alldatatrue_classes, alldatayPredictions,average='macro')\n",
        "Microalldataprecision=precision_score(alldatatrue_classes, alldatayPredictions,average='micro')\n",
        "print('Accuracy' ,alldataaccuracy)\n",
        "print('Macro f1' ,Macroalldataf1)\n",
        "print('Micro f1' ,Microalldataf1)\n",
        "print('Macro precision' ,Macroalldataprecision)\n",
        "print('Micro precision' ,Microalldataprecision)\n",
        "alldataCM= confusion_matrix(alldatatrue_classes, alldatayPredictions)\n",
        "print(alldataCM)"
      ],
      "execution_count": null,
      "outputs": [
        {
          "output_type": "stream",
          "text": [
            "Accuracy 0.9841527834213735\n",
            "Macro f1 0.9809262283882343\n",
            "Micro f1 0.9841527834213735\n",
            "Macro precision 0.9786557901418328\n",
            "Micro precision 0.9841527834213735\n",
            "[[ 472    3    4]\n",
            " [   9 1485   13]\n",
            " [   1    9  465]]\n"
          ],
          "name": "stdout"
        }
      ]
    }
  ]
}